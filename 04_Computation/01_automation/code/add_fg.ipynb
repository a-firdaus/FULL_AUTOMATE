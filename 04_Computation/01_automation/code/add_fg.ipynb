{
 "cells": [
  {
   "cell_type": "markdown",
   "id": "94494554",
   "metadata": {},
   "source": [
    "# Load structure"
   ]
  },
  {
   "cell_type": "code",
   "execution_count": 907,
   "id": "0e63d18d",
   "metadata": {},
   "outputs": [],
   "source": [
    "import crystal_toolkit"
   ]
  },
  {
   "cell_type": "code",
   "execution_count": 908,
   "id": "b5b50cf7",
   "metadata": {},
   "outputs": [],
   "source": [
    "from ase.io import read\n",
    "from ase import Atoms\n",
    "from ase.build import add_adsorbate\n",
    "from ase.geometry import get_distances\n",
    "import numpy as np\n",
    "import random\n",
    "\n",
    "from pymatgen.core import Structure, Lattice, Molecule\n",
    "from pymatgen.core.operations import SymmOp\n",
    "# from pymatgen.transformations.standard_transformations import RotateMoleculeTransformation"
   ]
  },
  {
   "cell_type": "code",
   "execution_count": 909,
   "id": "0def5d4f",
   "metadata": {},
   "outputs": [],
   "source": [
    "# # Load supercell (either from ASE or convert from pymatgen)\n",
    "# slab = read(\"supercell.xyz\")  # or supercell.vasp etc.\n",
    "# mol = read(\"triamine.xyz\")    # your molecule\n",
    "\n",
    "# # Optionally center molecule (important before rotation)\n",
    "# mol.center(vacuum=0.0)"
   ]
  },
  {
   "cell_type": "code",
   "execution_count": 910,
   "id": "5174bd47",
   "metadata": {},
   "outputs": [],
   "source": [
    "supercell = Structure.from_file(\"quantumatk/POSCAR_sc_li_outer\")"
   ]
  },
  {
   "cell_type": "code",
   "execution_count": 911,
   "id": "38aa235c",
   "metadata": {},
   "outputs": [
    {
     "name": "stdout",
     "output_type": "stream",
     "text": [
      "Full Formula (Li27 Ni27 O54)\n",
      "Reduced Formula: LiNiO2\n",
      "abc   :   8.716037  17.570024  26.187221\n",
      "angles:  90.000000  90.000000  90.000002\n",
      "pbc   :       True       True       True\n",
      "Sites (108)\n",
      "  #  SP            a         b         c\n",
      "---  ----  ---------  --------  --------\n",
      "  0  Li    -0         0.830726  0.078756\n",
      "  1  Li    -0         0.497393  0.078756\n",
      "  2  Li    -0         0.16406   0.078756\n",
      "  3  Li     0.166666  0.748696  0.157512\n",
      "  4  Li     0.166666  0.415363  0.157512\n",
      "  5  Li     0.166667  0.08203   0.157512\n",
      "  6  Li    -0         0.666666  0.236269\n",
      "  7  Li    -0         0.333333  0.236269\n",
      "  8  Li     0         0         0.236269\n",
      "  9  Li     0.333333  0.830726  0.078756\n",
      " 10  Li     0.333333  0.497393  0.078756\n",
      " 11  Li     0.333333  0.16406   0.078756\n",
      " 12  Li     0.5       0.748696  0.157512\n",
      " 13  Li     0.5       0.415363  0.157512\n",
      " 14  Li     0.5       0.08203   0.157512\n",
      " 15  Li     0.333333  0.666666  0.236269\n",
      " 16  Li     0.333333  0.333333  0.236269\n",
      " 17  Li     0.333333  0         0.236269\n",
      " 18  Li     0.666666  0.830726  0.078756\n",
      " 19  Li     0.666666  0.497393  0.078756\n",
      " 20  Li     0.666667  0.16406   0.078756\n",
      " 21  Li     0.833333  0.748696  0.157512\n",
      " 22  Li     0.833333  0.415363  0.157512\n",
      " 23  Li     0.833333  0.08203   0.157512\n",
      " 24  Li     0.666666  0.666666  0.236269\n",
      " 25  Li     0.666667  0.333333  0.236269\n",
      " 26  Li     0.666667  0         0.236269\n",
      " 27  Ni    -0         0.330726  0.078756\n",
      " 28  Ni    -0         0.997393  0.078756\n",
      " 29  Ni    -0         0.66406   0.078756\n",
      " 30  Ni     0.166666  0.248696  0.157512\n",
      " 31  Ni     0.166666  0.915363  0.157512\n",
      " 32  Ni     0.166667  0.58203   0.157512\n",
      " 33  Ni    -0         0.166666  0.236269\n",
      " 34  Ni    -0         0.833333  0.236269\n",
      " 35  Ni     0         0.5       0.236269\n",
      " 36  Ni     0.333333  0.330726  0.078756\n",
      " 37  Ni     0.333333  0.997393  0.078756\n",
      " 38  Ni     0.333333  0.66406   0.078756\n",
      " 39  Ni     0.5       0.248696  0.157512\n",
      " 40  Ni     0.5       0.915363  0.157512\n",
      " 41  Ni     0.5       0.58203   0.157512\n",
      " 42  Ni     0.333333  0.166666  0.236269\n",
      " 43  Ni     0.333333  0.833333  0.236269\n",
      " 44  Ni     0.333333  0.5       0.236269\n",
      " 45  Ni     0.666666  0.330726  0.078756\n",
      " 46  Ni     0.666666  0.997393  0.078756\n",
      " 47  Ni     0.666667  0.66406   0.078756\n",
      " 48  Ni     0.833333  0.248696  0.157512\n",
      " 49  Ni     0.833333  0.915363  0.157512\n",
      " 50  Ni     0.833333  0.58203   0.157512\n",
      " 51  Ni     0.666666  0.166666  0.236269\n",
      " 52  Ni     0.666667  0.833333  0.236269\n",
      " 53  Ni     0.666667  0.5       0.236269\n",
      " 54  O     -0         0.334634  0.002443\n",
      " 55  O     -0         0.001301  0.002443\n",
      " 56  O     -0         0.667967  0.002443\n",
      " 57  O      0.166667  0.408848  0.076313\n",
      " 58  O      0.166666  0.075515  0.076313\n",
      " 59  O      0.166666  0.742182  0.076313\n",
      " 60  O      0.166666  0.252604  0.081199\n",
      " 61  O      0.166667  0.919271  0.0812\n",
      " 62  O      0.166666  0.585938  0.0812\n",
      " 63  O     -0         0.326818  0.155069\n",
      " 64  O     -0         0.993485  0.155069\n",
      " 65  O     -0         0.660152  0.155069\n",
      " 66  O     -0         0.170574  0.159956\n",
      " 67  O     -0         0.837241  0.159956\n",
      " 68  O     -0         0.503908  0.159956\n",
      " 69  O      0.166667  0.244788  0.233825\n",
      " 70  O      0.166666  0.911455  0.233825\n",
      " 71  O      0.166666  0.578122  0.233825\n",
      " 72  O      0.333333  0.334634  0.002443\n",
      " 73  O      0.333333  0.001301  0.002443\n",
      " 74  O      0.333333  0.667967  0.002443\n",
      " 75  O      0.5       0.408848  0.076313\n",
      " 76  O      0.5       0.075515  0.076313\n",
      " 77  O      0.5       0.742182  0.076313\n",
      " 78  O      0.5       0.252604  0.081199\n",
      " 79  O      0.5       0.919271  0.0812\n",
      " 80  O      0.5       0.585938  0.0812\n",
      " 81  O      0.333333  0.326818  0.155069\n",
      " 82  O      0.333333  0.993485  0.155069\n",
      " 83  O      0.333333  0.660152  0.155069\n",
      " 84  O      0.333333  0.170574  0.159956\n",
      " 85  O      0.333333  0.837241  0.159956\n",
      " 86  O      0.333333  0.503908  0.159956\n",
      " 87  O      0.5       0.244788  0.233825\n",
      " 88  O      0.5       0.911455  0.233825\n",
      " 89  O      0.5       0.578122  0.233825\n",
      " 90  O      0.666666  0.334634  0.002443\n",
      " 91  O      0.666667  0.001301  0.002443\n",
      " 92  O      0.666666  0.667967  0.002443\n",
      " 93  O      0.833333  0.408848  0.076313\n",
      " 94  O      0.833333  0.075515  0.076313\n",
      " 95  O      0.833333  0.742182  0.076313\n",
      " 96  O      0.833333  0.252604  0.081199\n",
      " 97  O      0.833333  0.919271  0.0812\n",
      " 98  O      0.833333  0.585938  0.0812\n",
      " 99  O      0.666667  0.326818  0.155069\n",
      "100  O      0.666666  0.993485  0.155069\n",
      "101  O      0.666666  0.660152  0.155069\n",
      "102  O      0.666666  0.170574  0.159956\n",
      "103  O      0.666667  0.837241  0.159956\n",
      "104  O      0.666666  0.503908  0.159956\n",
      "105  O      0.833333  0.244788  0.233825\n",
      "106  O      0.833333  0.911455  0.233825\n",
      "107  O      0.833333  0.578122  0.233825\n"
     ]
    }
   ],
   "source": [
    "print(supercell)"
   ]
  },
  {
   "cell_type": "code",
   "execution_count": 912,
   "id": "8558a060",
   "metadata": {},
   "outputs": [],
   "source": [
    "sc = read(\"quantumatk/POSCAR_sc_li_outer\")"
   ]
  },
  {
   "cell_type": "code",
   "execution_count": 913,
   "id": "c1d10d0f",
   "metadata": {},
   "outputs": [
    {
     "name": "stdout",
     "output_type": "stream",
     "text": [
      "Atoms(symbols='Li27Ni27O54', pbc=True, cell=[[8.716036849615, 0.0, 0.0], [-4.66153e-07, 17.570024033931, 0.0], [0.0, 0.0, 26.187220967135]])\n"
     ]
    }
   ],
   "source": [
    "print(sc)"
   ]
  },
  {
   "cell_type": "code",
   "execution_count": 914,
   "id": "a8906f88",
   "metadata": {},
   "outputs": [
    {
     "data": {
      "text/html": [
       "\n",
       "        <iframe\n",
       "            width=\"100%\"\n",
       "            height=\"650\"\n",
       "            src=\"http://127.0.0.1:8884/\"\n",
       "            frameborder=\"0\"\n",
       "            allowfullscreen\n",
       "            \n",
       "        ></iframe>\n",
       "        "
      ],
      "text/plain": [
       "<IPython.lib.display.IFrame at 0x7f7165ddcad0>"
      ]
     },
     "metadata": {},
     "output_type": "display_data"
    }
   ],
   "source": [
    "molecule = Molecule.from_file(\"fg/diurethane.xyz\")\n",
    "molecule\n",
    "\n",
    "# ## alternative\n",
    "# from pymatgen.io.ase import AseAtomsAdaptor\n",
    "\n",
    "# atoms = read(\"fg/triamine.xyz\")\n",
    "# molecule_ase = AseAtomsAdaptor.get_molecule(atoms)"
   ]
  },
  {
   "cell_type": "code",
   "execution_count": 915,
   "id": "0b142207",
   "metadata": {},
   "outputs": [],
   "source": [
    "# molecule.center(vacuum=0.0)"
   ]
  },
  {
   "cell_type": "code",
   "execution_count": 916,
   "id": "bc13a76c",
   "metadata": {},
   "outputs": [],
   "source": [
    "molecule_centered = molecule.get_centered_molecule()\n",
    "# print(molecule_centered)"
   ]
  },
  {
   "cell_type": "code",
   "execution_count": 917,
   "id": "6686d7c3",
   "metadata": {},
   "outputs": [],
   "source": [
    "# molecule_centered_aligned = molecule_centered.align_sites([0], [1]) # Note: doesn't exist\n",
    "# print(molecule_centered_aligned)"
   ]
  },
  {
   "cell_type": "code",
   "execution_count": null,
   "id": "067bbc1a",
   "metadata": {},
   "outputs": [],
   "source": []
  },
  {
   "cell_type": "code",
   "execution_count": null,
   "id": "e70f6b84",
   "metadata": {},
   "outputs": [],
   "source": []
  },
  {
   "cell_type": "code",
   "execution_count": 918,
   "id": "c6111d9a",
   "metadata": {},
   "outputs": [],
   "source": [
    "mol = read(\"fg/triamine.xyz\")"
   ]
  },
  {
   "cell_type": "code",
   "execution_count": 919,
   "id": "e72ad5e4",
   "metadata": {},
   "outputs": [
    {
     "data": {
      "text/plain": [
       "Atoms(symbols='CH3CH2CH2NHNHNHCH3', pbc=False)"
      ]
     },
     "execution_count": 919,
     "metadata": {},
     "output_type": "execute_result"
    }
   ],
   "source": [
    "mol"
   ]
  },
  {
   "cell_type": "code",
   "execution_count": 920,
   "id": "036a6970",
   "metadata": {},
   "outputs": [
    {
     "name": "stdout",
     "output_type": "stream",
     "text": [
      "None\n"
     ]
    }
   ],
   "source": [
    "print(mol.center(vacuum=0.0))"
   ]
  },
  {
   "cell_type": "code",
   "execution_count": 921,
   "id": "aea5a921",
   "metadata": {},
   "outputs": [],
   "source": [
    "def align_principal_axes(atoms: Atoms):\n",
    "    pos = atoms.get_positions()\n",
    "    pos -= pos.mean(axis=0)  # Center molecule\n",
    "\n",
    "    # Compute inertia tensor\n",
    "    inertia = np.dot(pos.T, pos)\n",
    "    eigvals, eigvecs = np.linalg.eigh(inertia)\n",
    "\n",
    "    # Align molecule along principal axes\n",
    "    new_pos = np.dot(pos, eigvecs)\n",
    "    atoms.set_positions(new_pos)\n",
    "    return atoms"
   ]
  },
  {
   "cell_type": "code",
   "execution_count": 922,
   "id": "aaa3e7d8",
   "metadata": {},
   "outputs": [
    {
     "data": {
      "text/plain": [
       "Cell([[8.716036849615, 0.0, 0.0], [-4.66153e-07, 17.570024033931, 0.0], [0.0, 0.0, 26.187220967135]])"
      ]
     },
     "execution_count": 922,
     "metadata": {},
     "output_type": "execute_result"
    }
   ],
   "source": [
    "sc.cell"
   ]
  },
  {
   "cell_type": "code",
   "execution_count": 923,
   "id": "e1aa787c",
   "metadata": {},
   "outputs": [],
   "source": [
    "# sc.cell.lenghts()     # Note: 'Cell' object has no attribute 'lenghts'"
   ]
  },
  {
   "cell_type": "code",
   "execution_count": 924,
   "id": "5bcfc1ce",
   "metadata": {},
   "outputs": [],
   "source": [
    "# # from ase.geometry import principal_axes\n",
    "\n",
    "# # mol.center(vacuum=0.0)\n",
    "\n",
    "# # Get principal axes of the molecule\n",
    "# mol = align_principal_axes(mol)\n",
    "\n",
    "# # Get lengths of supercell\n",
    "# cell_lengths = sc.cell.lengths()\n",
    "# longest_sc_axis = np.argmax(cell_lengths)\n",
    "\n",
    "# # Rotate molecule so its longest principal axis aligns with sc's longest side\n",
    "# from ase.geometry import rotate\n",
    "\n",
    "# # Rotate mol's longest axis (axes[0]) to match e.g., [1, 0, 0] or [0, 1, 0]\n",
    "# target_axes = [np.array([1, 0, 0]), np.array([0, 1, 0]), np.array([0, 0, 1])]\n",
    "# rotate(mol, a1=axes[0], a2=target_axes[longest_sc_axis], rotate_cell=False)\n"
   ]
  },
  {
   "cell_type": "code",
   "execution_count": 925,
   "id": "166aa549",
   "metadata": {},
   "outputs": [],
   "source": [
    "# # Compute slab height\n",
    "# z_max_slab = max(slab.positions[:, 2])\n",
    "\n",
    "# # Shift molecule above the slab\n",
    "# mol.translate([0, 0, z_max_slab + 3.0])  # 3 Angstrom above slab\n"
   ]
  },
  {
   "cell_type": "code",
   "execution_count": 926,
   "id": "8f8f9890",
   "metadata": {},
   "outputs": [],
   "source": [
    "# from ase import Atoms\n",
    "\n",
    "# combined = slab + mol\n",
    "# combined.wrap()  # optional: keep atoms inside cell\n",
    "\n",
    "# # Save or view\n",
    "# combined.write(\"combined_structure.xyz\")\n"
   ]
  },
  {
   "cell_type": "code",
   "execution_count": null,
   "id": "6157467a",
   "metadata": {},
   "outputs": [],
   "source": []
  },
  {
   "cell_type": "code",
   "execution_count": 927,
   "id": "e52af78d",
   "metadata": {},
   "outputs": [],
   "source": [
    "mol_xyz = align_principal_axes(mol)"
   ]
  },
  {
   "cell_type": "code",
   "execution_count": 928,
   "id": "667116be",
   "metadata": {},
   "outputs": [
    {
     "data": {
      "text/plain": [
       "Atoms(symbols='CH3CH2CH2NHNHNHCH3', pbc=False, cell=[8.261140000000001, 3.7105300000000003, 2.79964])"
      ]
     },
     "execution_count": 928,
     "metadata": {},
     "output_type": "execute_result"
    }
   ],
   "source": [
    "mol_xyz"
   ]
  },
  {
   "cell_type": "code",
   "execution_count": 929,
   "id": "bc3c8b08",
   "metadata": {},
   "outputs": [
    {
     "data": {
      "text/plain": [
       "array([[-4.84726624e-02,  7.44472486e-01,  3.20577174e+00],\n",
       "       [ 3.79576027e-01,  1.71029018e+00,  3.49050684e+00],\n",
       "       [-1.14006889e+00,  8.41644370e-01,  3.21815345e+00],\n",
       "       [ 2.31031671e-01, -9.92724746e-05,  3.97526094e+00],\n",
       "       [-1.38346984e-01, -8.76944960e-01,  1.33905778e+00],\n",
       "       [ 2.01252884e-01, -1.75399103e+00,  1.92167905e+00],\n",
       "       [-1.23921179e+00, -8.25110802e-01,  1.43936419e+00],\n",
       "       [-2.75688909e-01, -1.53870919e-01, -1.02329904e+00],\n",
       "       [-2.16371075e-01,  8.55142117e-01, -5.87027987e-01],\n",
       "       [-1.34156368e+00, -3.68654502e-01, -1.23011765e+00],\n",
       "       [ 3.84491195e-01,  4.06783941e-01,  1.83702808e+00],\n",
       "       [ 1.40307236e+00,  4.23932559e-01,  1.72627111e+00],\n",
       "       [ 3.30524750e-01, -1.06032497e+00, -3.69382783e-02],\n",
       "       [ 2.93653215e-01, -2.03164591e+00, -3.55017980e-01],\n",
       "       [ 4.52705518e-01, -3.27762279e-01, -2.29079859e+00],\n",
       "       [ 1.45268690e+00, -1.69013798e-01, -2.12939489e+00],\n",
       "       [-7.18856762e-02,  4.96590331e-01, -3.39701917e+00],\n",
       "       [-7.58356516e-02,  1.58549973e+00, -3.20156441e+00],\n",
       "       [ 5.22702107e-01,  3.10318528e-01, -4.29666136e+00],\n",
       "       [-1.10425131e+00,  1.92744190e-01, -3.60525381e+00]])"
      ]
     },
     "execution_count": 929,
     "metadata": {},
     "output_type": "execute_result"
    }
   ],
   "source": [
    "mol.get_positions()"
   ]
  },
  {
   "cell_type": "code",
   "execution_count": 930,
   "id": "1b8ee301",
   "metadata": {},
   "outputs": [
    {
     "data": {
      "text/plain": [
       "True"
      ]
     },
     "execution_count": 930,
     "metadata": {},
     "output_type": "execute_result"
    }
   ],
   "source": [
    "mol_xyz == mol"
   ]
  },
  {
   "cell_type": "code",
   "execution_count": null,
   "id": "8cf77308",
   "metadata": {},
   "outputs": [],
   "source": []
  },
  {
   "cell_type": "code",
   "execution_count": null,
   "id": "fee4227a",
   "metadata": {},
   "outputs": [],
   "source": []
  },
  {
   "cell_type": "code",
   "execution_count": 931,
   "id": "2e624444",
   "metadata": {},
   "outputs": [],
   "source": [
    "def substitute_ni_atoms(structure, nmc_ratio, seed=None):\n",
    "    nmc_structure = structure.copy()\n",
    "    \n",
    "    nmc_ratio = np.array(nmc_ratio)\n",
    "    nmc_ratio = nmc_ratio/nmc_ratio.sum()\n",
    "    \n",
    "    # Use a NumPy RNG like QuantumATK does\n",
    "    rng = np.random.RandomState(seed)\n",
    "\n",
    "    # Find all Ni atoms\n",
    "    ni_indices = [i for i, site in enumerate(nmc_structure) if site.specie.symbol == \"Ni\"]\n",
    "    print(\"Original Ni indices:\", ni_indices)\n",
    "    \n",
    "    n_total = len(ni_indices)\n",
    "    \n",
    "    # Compute target numbers for each element\n",
    "    ni_frac, mn_frac, co_frac = nmc_ratio\n",
    "    n_ni = round(n_total * ni_frac)\n",
    "    n_mn = round(n_total * mn_frac)\n",
    "    n_co = n_total - n_ni - n_mn  # Ensure total is preserved\n",
    "    \n",
    "    # Shuffle Ni indices\n",
    "    rng.shuffle(ni_indices)\n",
    "    print(\"Shuffled Ni indices:\", ni_indices)\n",
    "    \n",
    "    # Replace Ni with Mn\n",
    "    for i in ni_indices[n_ni:n_ni + n_mn]:\n",
    "        nmc_structure.replace(i, \"Mn\")\n",
    "    \n",
    "    # Replace Ni with Co\n",
    "    for i in ni_indices[n_ni + n_mn:n_ni + n_mn + n_co]:\n",
    "        nmc_structure.replace(i, \"Co\")\n",
    "    \n",
    "    print(f\"NMC ratio: {nmc_ratio}\")\n",
    "    print(f\"n_ni: {n_ni}, n_mn: {n_mn}, n_co: {n_co}\")\n",
    "\n",
    "    nmc_structure = nmc_structure.get_sorted_structure()\n",
    "    \n",
    "    return nmc_structure\n"
   ]
  },
  {
   "cell_type": "code",
   "execution_count": 932,
   "id": "891342b1",
   "metadata": {},
   "outputs": [
    {
     "name": "stdout",
     "output_type": "stream",
     "text": [
      "Original Ni indices: [27, 28, 29, 30, 31, 32, 33, 34, 35, 36, 37, 38, 39, 40, 41, 42, 43, 44, 45, 46, 47, 48, 49, 50, 51, 52, 53]\n",
      "Shuffled Ni indices: [44, 29, 40, 49, 36, 42, 51, 33, 52, 39, 35, 50, 53, 41, 30, 31, 34, 32, 48, 37, 43, 47, 46, 45, 28, 27, 38]\n",
      "NMC ratio: [0.33333333 0.33333333 0.33333333]\n",
      "n_ni: 9, n_mn: 9, n_co: 9\n"
     ]
    }
   ],
   "source": [
    "nmc_structure = substitute_ni_atoms(structure=supercell, nmc_ratio=[1,1,1], seed=None)"
   ]
  },
  {
   "cell_type": "code",
   "execution_count": null,
   "id": "c15f6fd3",
   "metadata": {},
   "outputs": [],
   "source": []
  },
  {
   "cell_type": "code",
   "execution_count": null,
   "id": "8b8f1004",
   "metadata": {},
   "outputs": [],
   "source": []
  },
  {
   "cell_type": "code",
   "execution_count": 933,
   "id": "b0c2bf99",
   "metadata": {},
   "outputs": [],
   "source": [
    "def get_principal_axis(mol: Molecule):\n",
    "    coords = mol.cart_coords - mol.center_of_mass\n",
    "    cov = np.cov(coords.T)\n",
    "    eigvals, eigvecs = np.linalg.eigh(cov)\n",
    "    # Return the eigenvector with the largest eigenvalue (longest axis)\n",
    "    return eigvecs[:, np.argmax(eigvals)]\n"
   ]
  },
  {
   "cell_type": "markdown",
   "id": "aba60273",
   "metadata": {},
   "source": [
    "# Step 1: Get longest axis of molecule"
   ]
  },
  {
   "cell_type": "code",
   "execution_count": 934,
   "id": "25e116b5",
   "metadata": {},
   "outputs": [
    {
     "name": "stdout",
     "output_type": "stream",
     "text": [
      "[-0.99984225 -0.0041892  -0.01726076]\n"
     ]
    }
   ],
   "source": [
    "molecule_axis = get_principal_axis(molecule)    # [-0.99961261 -0.02777762  0.00174037]\n",
    "print(molecule_axis)"
   ]
  },
  {
   "cell_type": "code",
   "execution_count": 935,
   "id": "00b754be",
   "metadata": {},
   "outputs": [],
   "source": [
    "# # Step 2: Get molecule's longest axis (in Cartesian)\n",
    "# molecule_coords = np.array(molecule.cart_coords)\n",
    "# molecule_extent = np.ptp(molecule_coords, axis=0)\n",
    "# molecule_axis = molecule_extent / np.linalg.norm(molecule_extent)\n",
    "# print(molecule_axis)"
   ]
  },
  {
   "cell_type": "code",
   "execution_count": 936,
   "id": "b5d5da4e",
   "metadata": {},
   "outputs": [],
   "source": [
    "# molecule_coords = np.array(molecule.cart_coords)\n",
    "# molecule_extent = np.ptp(molecule_coords, axis=0)\n",
    "# molecule_axis = molecule_extent / np.linalg.norm(molecule_extent)     # array([0.8715153 , 0.39144521, 0.29535017])\n",
    "# print(molecule_axis)"
   ]
  },
  {
   "cell_type": "markdown",
   "id": "da0dc9c3",
   "metadata": {},
   "source": [
    "# Step 2: Determine which lattice direction has most layers"
   ]
  },
  {
   "cell_type": "code",
   "execution_count": 937,
   "id": "3d290449",
   "metadata": {},
   "outputs": [],
   "source": [
    "# Get longest lattice vector of supercell\n",
    "\n",
    "# lattice = supercell.lattice.matrix\n",
    "# lattice_lengths = np.linalg.norm(lattice, axis=1)\n",
    "lattice_lengths = supercell.lattice.abc\n",
    "longest_idx = np.argmax(lattice_lengths)\n",
    "longest_unitvec = np.array([1 if i == longest_idx else 0 for i in range(3)])\n",
    "# cell_axis = lattice[longest_idx] / lattice_lengths[longest_idx]     # returns: array([0., 0., 1.]) meaning z-axis as the longest\n"
   ]
  },
  {
   "cell_type": "code",
   "execution_count": 938,
   "id": "5af72e23",
   "metadata": {},
   "outputs": [],
   "source": [
    "# Get direction of thickest layer\n",
    "\n",
    "coords = np.array([site.frac_coords for site in supercell])\n",
    "spread = np.ptp(coords, axis=0)  # peak-to-peak: max - min along each axis\n",
    "thickest_idx = np.argmax(spread)\n",
    "lattice_vec = supercell.lattice.matrix[thickest_idx]\n",
    "\n",
    "# Get supercell direction (unit vector)\n",
    "supercell_axis = lattice_vec / np.linalg.norm(lattice_vec)      # returns: array([-2.65311532e-08,  1.00000000e+00,  0.00000000e+00])"
   ]
  },
  {
   "cell_type": "code",
   "execution_count": 939,
   "id": "5c666b69",
   "metadata": {},
   "outputs": [],
   "source": [
    "# Assuming molecule_axis and supercell_axis are normalized vectors\n",
    "rotation_axis = np.cross(molecule_axis, supercell_axis)      # array([-0.02777762,  0.99961261,  0.        ])"
   ]
  },
  {
   "cell_type": "markdown",
   "id": "487443da",
   "metadata": {},
   "source": [
    "# Step 3: Rotate molecule to align molecule_axis with supercell_axis"
   ]
  },
  {
   "cell_type": "code",
   "execution_count": 940,
   "id": "b05585ae",
   "metadata": {},
   "outputs": [],
   "source": [
    "# Assuming molecule_axis and supercell_axis are normalized vectors\n",
    "rotation_axis = np.cross(molecule_axis, supercell_axis)      # array([-0.02777762,  0.99961261,  0.        ])"
   ]
  },
  {
   "cell_type": "code",
   "execution_count": 941,
   "id": "bae72ee5",
   "metadata": {},
   "outputs": [],
   "source": [
    "# Skip rotation if vectors are already aligned\n",
    "# if not np.isclose(rotation_angle_deg, 0):\n",
    "if np.linalg.norm(rotation_axis) > 1e-3:\n",
    "    rotation_axis /= np.linalg.norm(rotation_axis)\n",
    "    rotation_angle_rad = np.arccos(np.clip(np.dot(molecule_axis, supercell_axis), -1.0, 1.0))    # 1.5690559577350829\n",
    "    rotation_angle_deg = np.rad2deg(rotation_angle_rad)     # 89.90028419807753\n",
    "\n",
    "    rotation = SymmOp.from_origin_axis_angle(origin=[0, 0, 0],\n",
    "                                            axis=rotation_axis,\n",
    "                                            angle=rotation_angle_deg,\n",
    "                                            angle_in_radians=False)\n",
    "    molecule_rotated = molecule.copy()\n",
    "    molecule_rotated.apply_operation(rotation)\n",
    "else:\n",
    "    molecule_rotated = molecule.copy()"
   ]
  },
  {
   "cell_type": "code",
   "execution_count": 942,
   "id": "5ea1d6e7",
   "metadata": {},
   "outputs": [
    {
     "name": "stderr",
     "output_type": "stream",
     "text": [
      "[2025-05-21 14:26:10,972] ERROR in app: Exception on /_dash-component-suites/dash/dash_table/async-highlight.js [GET]\n",
      "Traceback (most recent call last):\n",
      "  File \"/home/azka/anaconda3/envs/full_automate/lib/python3.11/site-packages/flask/app.py\", line 1473, in wsgi_app\n",
      "    response = self.full_dispatch_request()\n",
      "               ^^^^^^^^^^^^^^^^^^^^^^^^^^^^\n",
      "  File \"/home/azka/anaconda3/envs/full_automate/lib/python3.11/site-packages/flask/app.py\", line 882, in full_dispatch_request\n",
      "    rv = self.handle_user_exception(e)\n",
      "         ^^^^^^^^^^^^^^^^^^^^^^^^^^^^^\n",
      "  File \"/home/azka/anaconda3/envs/full_automate/lib/python3.11/site-packages/flask/app.py\", line 880, in full_dispatch_request\n",
      "    rv = self.dispatch_request()\n",
      "         ^^^^^^^^^^^^^^^^^^^^^^^\n",
      "  File \"/home/azka/anaconda3/envs/full_automate/lib/python3.11/site-packages/flask/app.py\", line 865, in dispatch_request\n",
      "    return self.ensure_sync(self.view_functions[rule.endpoint])(**view_args)  # type: ignore[no-any-return]\n",
      "           ^^^^^^^^^^^^^^^^^^^^^^^^^^^^^^^^^^^^^^^^^^^^^^^^^^^^^^^^^^^^^^^^^\n",
      "  File \"/home/azka/anaconda3/envs/full_automate/lib/python3.11/site-packages/dash/dash.py\", line 1052, in serve_component_suites\n",
      "    _validate.validate_js_path(self.registered_paths, package_name, path_in_pkg)\n",
      "  File \"/home/azka/anaconda3/envs/full_automate/lib/python3.11/site-packages/dash/_validate.py\", line 377, in validate_js_path\n",
      "    raise exceptions.DependencyException(\n",
      "dash.exceptions.DependencyException: Error loading dependency. \"dash\" is not a registered library.\n",
      "Registered libraries are:\n",
      "[]\n"
     ]
    },
    {
     "data": {
      "text/html": [
       "\n",
       "        <iframe\n",
       "            width=\"100%\"\n",
       "            height=\"650\"\n",
       "            src=\"http://127.0.0.1:8884/\"\n",
       "            frameborder=\"0\"\n",
       "            allowfullscreen\n",
       "            \n",
       "        ></iframe>\n",
       "        "
      ],
      "text/plain": [
       "<IPython.lib.display.IFrame at 0x7f7169131210>"
      ]
     },
     "metadata": {},
     "output_type": "display_data"
    }
   ],
   "source": [
    "molecule_rotated"
   ]
  },
  {
   "cell_type": "markdown",
   "id": "357b83b7",
   "metadata": {},
   "source": [
    "# Step 3a: flipped through a direction"
   ]
  },
  {
   "cell_type": "code",
   "execution_count": null,
   "id": "295c17b5",
   "metadata": {},
   "outputs": [
    {
     "data": {
      "text/html": [
       "\n",
       "        <iframe\n",
       "            width=\"100%\"\n",
       "            height=\"650\"\n",
       "            src=\"http://127.0.0.1:8884/\"\n",
       "            frameborder=\"0\"\n",
       "            allowfullscreen\n",
       "            \n",
       "        ></iframe>\n",
       "        "
      ],
      "text/plain": [
       "<IPython.lib.display.IFrame at 0x7f7164650a50>"
      ]
     },
     "metadata": {},
     "output_type": "display_data"
    }
   ],
   "source": [
    "# Mirror over the y-axis (flip the sign of y-coordinates)\n",
    "coords_flipped = molecule_rotated.cart_coords.copy()\n",
    "# if molecule_name == \"diurethane\":\n",
    "# elif molecule_name == \"triamine\":\n",
    "coords_flipped[:, 0] *= -1  # Flip x-axis\n",
    "coords_flipped[:, 1] *= -1  # Flip y-axis\n",
    "# coords_flipped[:, 2] *= -1  # Flip z-axis\n",
    "# elif molecule_name == \"dicarbonate\":\n",
    "# unknown\n",
    "# elif molecule_name == \"triester\": # approved\n",
    "# elif molecule_name == \"triether\": # approved\n",
    "# elif molecule_name == \"triol\": # approved\n",
    "\n",
    "# Create a new Molecule with flipped coordinates\n",
    "molecule_rotated_flipped = Molecule(species=molecule_rotated.species, coords=coords_flipped)\n",
    "molecule_rotated_flipped"
   ]
  },
  {
   "cell_type": "markdown",
   "id": "01d0dd7b",
   "metadata": {},
   "source": [
    "# Step 4: Translate molecule so it sits 3 Å above top of supercell"
   ]
  },
  {
   "cell_type": "code",
   "execution_count": 944,
   "id": "cc972042",
   "metadata": {},
   "outputs": [],
   "source": [
    "supercell_cart_coords = np.array([site.coords for site in supercell])\n",
    "molecule_cart_coords = np.array(molecule_rotated_flipped.cart_coords)\n",
    "\n",
    "# # --- Get topmost atom in slab along vacuum direction ---\n",
    "# supercell_top = np.max(supercell_cart_coords[:, longest_idx])\n",
    "\n",
    "# # Center of the supercell in y\n",
    "# supercell_min = np.min(supercell_cart_coords[:, thickest_idx])\n",
    "# supercell_max = np.max(supercell_cart_coords[:, thickest_idx])\n",
    "# supercell_center = np.mean(supercell_cart_coords, axis=0)       # didnt really like this\n",
    "# molecule_center = np.mean(molecule_cart_coords, axis=0)"
   ]
  },
  {
   "cell_type": "code",
   "execution_count": 945,
   "id": "d848eba1",
   "metadata": {},
   "outputs": [
    {
     "name": "stdout",
     "output_type": "stream",
     "text": [
      "[[-3.44918910e-06  1.45958735e+01  2.06240286e+00]\n",
      " [-1.84113789e-06  8.73920320e+00  2.06240493e+00]\n",
      " [-2.33077957e-07  2.88253294e+00  2.06240699e+00]\n",
      " [ 1.45266948e+00  1.31546070e+01  4.12480985e+00]\n",
      " [ 1.45267108e+00  7.29793673e+00  4.12481192e+00]\n",
      " [ 1.45267269e+00  1.44126647e+00  4.12481398e+00]\n",
      " [-3.21611114e-06  1.17133405e+01  6.18721684e+00]\n",
      " [-1.60805993e-06  5.85667026e+00  6.18721890e+00]\n",
      " [ 0.00000000e+00  0.00000000e+00  6.18722097e+00]\n",
      " [ 2.90534217e+00  1.45958735e+01  2.06240286e+00]\n",
      " [ 2.90534378e+00  8.73920320e+00  2.06240493e+00]\n",
      " [ 2.90534538e+00  2.88253294e+00  2.06240699e+00]\n",
      " [ 4.35801509e+00  1.31546070e+01  4.12480985e+00]\n",
      " [ 4.35801670e+00  7.29793673e+00  4.12481192e+00]\n",
      " [ 4.35801831e+00  1.44126647e+00  4.12481398e+00]\n",
      " [ 2.90534240e+00  1.17133405e+01  6.18721684e+00]\n",
      " [ 2.90534401e+00  5.85667026e+00  6.18721890e+00]\n",
      " [ 2.90534562e+00  0.00000000e+00  6.18722097e+00]\n",
      " [ 5.81068778e+00  1.45958735e+01  2.06240286e+00]\n",
      " [ 5.81068939e+00  8.73920320e+00  2.06240493e+00]\n",
      " [ 5.81069100e+00  2.88253294e+00  2.06240699e+00]\n",
      " [ 7.26336071e+00  1.31546070e+01  4.12480985e+00]\n",
      " [ 7.26336232e+00  7.29793673e+00  4.12481192e+00]\n",
      " [ 7.26336392e+00  1.44126647e+00  4.12481398e+00]\n",
      " [ 5.81068802e+00  1.17133405e+01  6.18721684e+00]\n",
      " [ 5.81068963e+00  5.85667026e+00  6.18721890e+00]\n",
      " [ 5.81069123e+00  0.00000000e+00  6.18722097e+00]\n",
      " [-3.21611260e-06  5.81086144e+00  2.06240286e+00]\n",
      " [-2.07421439e-06  1.75242152e+01  2.06240493e+00]\n",
      " [-4.66154457e-07  1.16675450e+01  2.06240699e+00]\n",
      " [ 1.45266971e+00  4.36959498e+00  4.12480985e+00]\n",
      " [ 1.45267085e+00  1.60829487e+01  4.12481192e+00]\n",
      " [ 1.45267246e+00  1.02262785e+01  4.12481398e+00]\n",
      " [-2.98303464e-06  2.92832851e+00  6.18721684e+00]\n",
      " [-1.84113643e-06  1.46416823e+01  6.18721890e+00]\n",
      " [-2.33076500e-07  8.78501202e+00  6.18722097e+00]\n",
      " [ 2.90534240e+00  5.81086144e+00  2.06240286e+00]\n",
      " [ 2.90534354e+00  1.75242152e+01  2.06240493e+00]\n",
      " [ 2.90534515e+00  1.16675450e+01  2.06240699e+00]\n",
      " [ 4.35801533e+00  4.36959498e+00  4.12480985e+00]\n",
      " [ 4.35801647e+00  1.60829487e+01  4.12481192e+00]\n",
      " [ 4.35801808e+00  1.02262785e+01  4.12481398e+00]\n",
      " [ 2.90534263e+00  2.92832851e+00  6.18721684e+00]\n",
      " [ 2.90534378e+00  1.46416823e+01  6.18721890e+00]\n",
      " [ 2.90534538e+00  8.78501202e+00  6.18722097e+00]\n",
      " [ 5.81068802e+00  5.81086144e+00  2.06240286e+00]\n",
      " [ 5.81068916e+00  1.75242152e+01  2.06240493e+00]\n",
      " [ 5.81069077e+00  1.16675450e+01  2.06240699e+00]\n",
      " [ 7.26336094e+00  4.36959498e+00  4.12480985e+00]\n",
      " [ 7.26336208e+00  1.60829487e+01  4.12481192e+00]\n",
      " [ 7.26336369e+00  1.02262785e+01  4.12481398e+00]\n",
      " [ 5.81068825e+00  2.92832851e+00  6.18721684e+00]\n",
      " [ 5.81068939e+00  1.46416823e+01  6.18721890e+00]\n",
      " [ 5.81069100e+00  8.78501202e+00  6.18722097e+00]\n",
      " [-1.84113166e-06  5.87952291e+00  6.39820520e-02]\n",
      " [-2.33080442e-07  2.28526505e-02  6.39841144e-02]\n",
      " [-3.44919190e-06  1.17362050e+01  6.39882392e-02]\n",
      " [ 1.45267246e+00  7.18346788e+00  1.99841462e+00]\n",
      " [ 1.45266971e+00  1.32679618e+00  1.99841875e+00]\n",
      " [ 1.45267085e+00  1.30401500e+01  1.99842081e+00]\n",
      " [ 1.45267108e+00  4.43825645e+00  2.12638904e+00]\n",
      " [ 1.45267223e+00  1.61516102e+01  2.12639110e+00]\n",
      " [ 1.45266948e+00  1.02949385e+01  2.12639523e+00]\n",
      " [-2.33075159e-07  5.74220142e+00  4.06082161e+00]\n",
      " [-3.44918662e-06  1.74555537e+01  4.06082574e+00]\n",
      " [-1.84113540e-06  1.15988835e+01  4.06082780e+00]\n",
      " [-1.60805370e-06  2.99698998e+00  4.18879603e+00]\n",
      " [-4.66155485e-07  1.47103437e+01  4.18879809e+00]\n",
      " [-3.21611394e-06  8.85367204e+00  4.18880222e+00]\n",
      " [ 1.45267269e+00  4.30093495e+00  6.12322860e+00]\n",
      " [ 1.45266948e+00  1.60142873e+01  6.12323273e+00]\n",
      " [ 1.45267108e+00  1.01576170e+01  6.12323479e+00]\n",
      " [ 2.90534378e+00  5.87952291e+00  6.39820520e-02]\n",
      " [ 2.90534538e+00  2.28526505e-02  6.39841144e-02]\n",
      " [ 2.90534217e+00  1.17362050e+01  6.39882392e-02]\n",
      " [ 4.35801808e+00  7.18346788e+00  1.99841462e+00]\n",
      " [ 4.35801533e+00  1.32679618e+00  1.99841875e+00]\n",
      " [ 4.35801647e+00  1.30401500e+01  1.99842081e+00]\n",
      " [ 4.35801670e+00  4.43825645e+00  2.12638904e+00]\n",
      " [ 4.35801784e+00  1.61516102e+01  2.12639110e+00]\n",
      " [ 4.35801509e+00  1.02949385e+01  2.12639523e+00]\n",
      " [ 2.90534538e+00  5.74220142e+00  4.06082161e+00]\n",
      " [ 2.90534217e+00  1.74555537e+01  4.06082574e+00]\n",
      " [ 2.90534378e+00  1.15988835e+01  4.06082780e+00]\n",
      " [ 2.90534401e+00  2.99698998e+00  4.18879603e+00]\n",
      " [ 2.90534515e+00  1.47103437e+01  4.18879809e+00]\n",
      " [ 2.90534240e+00  8.85367204e+00  4.18880222e+00]\n",
      " [ 4.35801831e+00  4.30093495e+00  6.12322860e+00]\n",
      " [ 4.35801509e+00  1.60142873e+01  6.12323273e+00]\n",
      " [ 4.35801670e+00  1.01576170e+01  6.12323479e+00]\n",
      " [ 5.81068939e+00  5.87952291e+00  6.39820520e-02]\n",
      " [ 5.81069100e+00  2.28526505e-02  6.39841144e-02]\n",
      " [ 5.81068778e+00  1.17362050e+01  6.39882392e-02]\n",
      " [ 7.26336369e+00  7.18346788e+00  1.99841462e+00]\n",
      " [ 7.26336094e+00  1.32679618e+00  1.99841875e+00]\n",
      " [ 7.26336208e+00  1.30401500e+01  1.99842081e+00]\n",
      " [ 7.26336232e+00  4.43825645e+00  2.12638904e+00]\n",
      " [ 7.26336346e+00  1.61516102e+01  2.12639110e+00]\n",
      " [ 7.26336071e+00  1.02949385e+01  2.12639523e+00]\n",
      " [ 5.81069100e+00  5.74220142e+00  4.06082161e+00]\n",
      " [ 5.81068778e+00  1.74555537e+01  4.06082574e+00]\n",
      " [ 5.81068939e+00  1.15988835e+01  4.06082780e+00]\n",
      " [ 5.81068963e+00  2.99698998e+00  4.18879603e+00]\n",
      " [ 5.81069077e+00  1.47103437e+01  4.18879809e+00]\n",
      " [ 5.81068802e+00  8.85367204e+00  4.18880222e+00]\n",
      " [ 7.26336392e+00  4.30093495e+00  6.12322860e+00]\n",
      " [ 7.26336071e+00  1.60142873e+01  6.12323273e+00]\n",
      " [ 7.26336232e+00  1.01576170e+01  6.12323479e+00]]\n"
     ]
    }
   ],
   "source": [
    "print(supercell.cart_coords)"
   ]
  },
  {
   "cell_type": "code",
   "execution_count": 946,
   "id": "2194e17a",
   "metadata": {},
   "outputs": [
    {
     "data": {
      "text/plain": [
       "\"# generated using pymatgen\\ndata_Li27Ni27H10C5(NO29)2\\n_symmetry_space_group_name_H-M   'P 1'\\n_cell_length_a   8.71603685\\n_cell_length_b   17.57002403\\n_cell_length_c   26.18722097\\n_cell_angle_alpha   90.00000000\\n_cell_angle_beta   90.00000000\\n_cell_angle_gamma   90.00000152\\n_symmetry_Int_Tables_number   1\\n_chemical_formula_structural   Li27Ni27H10C5(NO29)2\\n_chemical_formula_sum   'Li27 Ni27 H10 C5 N2 O58'\\n_cell_volume   4010.33660195\\n_cell_formula_units_Z   1\\nloop_\\n _symmetry_equiv_pos_site_id\\n _symmetry_equiv_pos_as_xyz\\n  1  'x, y, z'\\nloop_\\n _atom_site_type_symbol\\n _atom_site_label\\n _atom_site_symmetry_multiplicity\\n _atom_site_fract_x\\n _atom_site_fract_y\\n _atom_site_fract_z\\n _atom_site_occupancy\\n  Li  Li0  1  -0.00000035  0.83072587  0.07875608  1\\n  Li  Li1  1  -0.00000018  0.49739279  0.07875616  1\\n  Li  Li2  1  -0.00000002  0.16405970  0.07875624  1\\n  Li  Li3  1  0.16666632  0.74869602  0.15751232  1\\n  Li  Li4  1  0.16666649  0.41536293  0.15751240  1\\n  Li  Li5  1  0.16666666  0.08202985  0.15751247  1\\n  Li  Li6  1  -0.00000033  0.66666616  0.23626855  1\\n  Li  Li7  1  -0.00000017  0.33333308  0.23626863  1\\n  Li  Li8  1  0.00000000  0.00000000  0.23626871  1\\n  Li  Li9  1  0.33333298  0.83072587  0.07875608  1\\n  Li  Li10  1  0.33333315  0.49739279  0.07875616  1\\n  Li  Li11  1  0.33333332  0.16405970  0.07875624  1\\n  Li  Li12  1  0.49999966  0.74869602  0.15751232  1\\n  Li  Li13  1  0.49999982  0.41536293  0.15751240  1\\n  Li  Li14  1  0.49999999  0.08202985  0.15751247  1\\n  Li  Li15  1  0.33333300  0.66666616  0.23626855  1\\n  Li  Li16  1  0.33333317  0.33333308  0.23626863  1\\n  Li  Li17  1  0.33333333  0.00000000  0.23626871  1\\n  Li  Li18  1  0.66666632  0.83072587  0.07875608  1\\n  Li  Li19  1  0.66666648  0.49739279  0.07875616  1\\n  Li  Li20  1  0.66666665  0.16405970  0.07875624  1\\n  Li  Li21  1  0.83333299  0.74869602  0.15751232  1\\n  Li  Li22  1  0.83333316  0.41536293  0.15751240  1\\n  Li  Li23  1  0.83333332  0.08202985  0.15751247  1\\n  Li  Li24  1  0.66666633  0.66666616  0.23626855  1\\n  Li  Li25  1  0.66666650  0.33333308  0.23626863  1\\n  Li  Li26  1  0.66666667  0.00000000  0.23626871  1\\n  Ni  Ni27  1  -0.00000035  0.33072587  0.07875608  1\\n  Ni  Ni28  1  -0.00000018  0.99739279  0.07875616  1\\n  Ni  Ni29  1  -0.00000002  0.66405970  0.07875624  1\\n  Ni  Ni30  1  0.16666632  0.24869602  0.15751232  1\\n  Ni  Ni31  1  0.16666649  0.91536293  0.15751240  1\\n  Ni  Ni32  1  0.16666666  0.58202985  0.15751247  1\\n  Ni  Ni33  1  -0.00000033  0.16666616  0.23626855  1\\n  Ni  Ni34  1  -0.00000017  0.83333308  0.23626863  1\\n  Ni  Ni35  1  0.00000000  0.50000000  0.23626871  1\\n  Ni  Ni36  1  0.33333298  0.33072587  0.07875608  1\\n  Ni  Ni37  1  0.33333315  0.99739279  0.07875616  1\\n  Ni  Ni38  1  0.33333332  0.66405970  0.07875624  1\\n  Ni  Ni39  1  0.49999966  0.24869602  0.15751232  1\\n  Ni  Ni40  1  0.49999982  0.91536293  0.15751240  1\\n  Ni  Ni41  1  0.49999999  0.58202985  0.15751247  1\\n  Ni  Ni42  1  0.33333300  0.16666616  0.23626855  1\\n  Ni  Ni43  1  0.33333317  0.83333308  0.23626863  1\\n  Ni  Ni44  1  0.33333333  0.50000000  0.23626871  1\\n  Ni  Ni45  1  0.66666632  0.33072587  0.07875608  1\\n  Ni  Ni46  1  0.66666648  0.99739279  0.07875616  1\\n  Ni  Ni47  1  0.66666665  0.66405970  0.07875624  1\\n  Ni  Ni48  1  0.83333299  0.24869602  0.15751232  1\\n  Ni  Ni49  1  0.83333316  0.91536293  0.15751240  1\\n  Ni  Ni50  1  0.83333332  0.58202985  0.15751247  1\\n  Ni  Ni51  1  0.66666633  0.16666616  0.23626855  1\\n  Ni  Ni52  1  0.66666650  0.83333308  0.23626863  1\\n  Ni  Ni53  1  0.66666667  0.50000000  0.23626871  1\\n  H  H54  1  0.25542890  -0.21333405  0.03619705  1\\n  H  H55  1  0.05381335  -0.23300797  0.04209679  1\\n  H  H56  1  0.15829291  -0.26537766  -0.01295360  1\\n  H  H57  1  -0.25437509  -0.02816853  0.00494050  1\\n  H  H58  1  -0.20930360  0.02488555  -0.05254091  1\\n  H  H59  1  0.04356366  -0.03112789  -0.04938727  1\\n  H  H60  1  -0.03601255  0.17520266  0.05957771  1\\n  H  H61  1  0.23141172  0.22983146  0.03977995  1\\n  H  H62  1  0.18192620  0.21162936  -0.02521794  1\\n  H  H63  1  0.08692300  0.28554715  0.00915848  1\\n  C  C64  1  0.14734600  -0.22050371  0.01567062  1\\n  C  C65  1  -0.16647743  0.00150738  -0.01673141  1\\n  C  C66  1  -0.02433109  -0.11459967  0.00201426  1\\n  C  C67  1  -0.01070766  0.11259780  -0.00541718  1\\n  C  C68  1  0.13735999  0.22859961  0.01204097  1\\n  N  N69  1  -0.04291360  -0.05011317  -0.02673889  1\\n  N  N70  1  0.02154784  0.17176498  0.02604399  1\\n  O  O71  1  -0.00000019  0.33463374  0.00244325  1\\n  O  O72  1  -0.00000003  0.00130066  0.00244333  1\\n  O  O73  1  -0.00000036  0.66796750  0.00244349  1\\n  O  O74  1  0.16666665  0.40884793  0.07631259  1\\n  O  O75  1  0.16666632  0.07551476  0.07631275  1\\n  O  O76  1  0.16666648  0.74218168  0.07631283  1\\n  O  O77  1  0.16666648  0.25260389  0.08119949  1\\n  O  O78  1  0.16666665  0.91927081  0.08119957  1\\n  O  O79  1  0.16666632  0.58593765  0.08119973  1\\n  O  O80  1  -0.00000001  0.32681807  0.15506883  1\\n  O  O81  1  -0.00000034  0.99348491  0.15506898  1\\n  O  O82  1  -0.00000018  0.66015183  0.15506906  1\\n  O  O83  1  -0.00000018  0.17057404  0.15995573  1\\n  O  O84  1  -0.00000001  0.83724096  0.15995581  1\\n  O  O85  1  -0.00000034  0.50390779  0.15995597  1\\n  O  O86  1  0.16666667  0.24478822  0.23382506  1\\n  O  O87  1  0.16666633  0.91145506  0.23382522  1\\n  O  O88  1  0.16666650  0.57812198  0.23382530  1\\n  O  O89  1  0.33333314  0.33463374  0.00244325  1\\n  O  O90  1  0.33333331  0.00130066  0.00244333  1\\n  O  O91  1  0.33333297  0.66796750  0.00244349  1\\n  O  O92  1  0.49999998  0.40884793  0.07631259  1\\n  O  O93  1  0.49999965  0.07551476  0.07631275  1\\n  O  O94  1  0.49999982  0.74218168  0.07631283  1\\n  O  O95  1  0.49999982  0.25260389  0.08119949  1\\n  O  O96  1  0.49999998  0.91927081  0.08119957  1\\n  O  O97  1  0.49999965  0.58593765  0.08119973  1\\n  O  O98  1  0.33333332  0.32681807  0.15506883  1\\n  O  O99  1  0.33333299  0.99348491  0.15506898  1\\n  O  O100  1  0.33333316  0.66015183  0.15506906  1\\n  O  O101  1  0.33333316  0.17057404  0.15995573  1\\n  O  O102  1  0.33333332  0.83724096  0.15995581  1\\n  O  O103  1  0.33333299  0.50390779  0.15995597  1\\n  O  O104  1  0.50000000  0.24478822  0.23382506  1\\n  O  O105  1  0.49999967  0.91145506  0.23382522  1\\n  O  O106  1  0.49999983  0.57812198  0.23382530  1\\n  O  O107  1  0.66666647  0.33463374  0.00244325  1\\n  O  O108  1  0.66666664  0.00130066  0.00244333  1\\n  O  O109  1  0.66666631  0.66796750  0.00244349  1\\n  O  O110  1  0.83333332  0.40884793  0.07631259  1\\n  O  O111  1  0.83333298  0.07551476  0.07631275  1\\n  O  O112  1  0.83333315  0.74218168  0.07631283  1\\n  O  O113  1  0.83333315  0.25260389  0.08119949  1\\n  O  O114  1  0.83333332  0.91927081  0.08119957  1\\n  O  O115  1  0.83333298  0.58593765  0.08119973  1\\n  O  O116  1  0.66666666  0.32681807  0.15506883  1\\n  O  O117  1  0.66666632  0.99348491  0.15506898  1\\n  O  O118  1  0.66666649  0.66015183  0.15506906  1\\n  O  O119  1  0.66666649  0.17057404  0.15995573  1\\n  O  O120  1  0.66666666  0.83724096  0.15995581  1\\n  O  O121  1  0.66666632  0.50390779  0.15995597  1\\n  O  O122  1  0.83333333  0.24478822  0.23382506  1\\n  O  O123  1  0.83333300  0.91145506  0.23382522  1\\n  O  O124  1  0.83333317  0.57812198  0.23382530  1\\n  O  O125  1  0.11363269  -0.14864190  -0.01109743  1\\n  O  O126  1  -0.12184193  0.06618571  0.01668085  1\\n  O  O127  1  -0.11595394  -0.13937554  0.03376458  1\\n  O  O128  1  0.04818313  0.09979226  -0.04768181  1\\n\""
      ]
     },
     "execution_count": 946,
     "metadata": {},
     "output_type": "execute_result"
    }
   ],
   "source": [
    "# --- Get molecule centroid and shift ---\n",
    "molecule_com = molecule_rotated_flipped.center_of_mass\n",
    "molecule_at_origin = molecule_rotated_flipped.translate_sites(range(len(molecule_rotated_flipped)), -molecule_com)\n",
    "\n",
    "combined_structure = supercell.copy()\n",
    "for site in molecule_at_origin.sites:\n",
    "    combined_structure.append(site.specie, site.coords, coords_are_cartesian=True)\n",
    "\n",
    "combined_structure = combined_structure.get_sorted_structure()\n",
    "\n",
    "# Save result\n",
    "combined_structure.to(filename=\"molecule_at_origin_center.cif\")"
   ]
  },
  {
   "cell_type": "code",
   "execution_count": 947,
   "id": "59de86b9",
   "metadata": {},
   "outputs": [
    {
     "name": "stdout",
     "output_type": "stream",
     "text": [
      "[4.35801819 8.78501202 0.        ]\n"
     ]
    }
   ],
   "source": [
    "# supercell center in 2D except the longest direction \n",
    "# longest_unitvec_inverse = 1 - longest_unitvec   # inversion of longest_unitvec\n",
    "supercell_2d_center = supercell.lattice.matrix.sum(axis=0) / 2  # Question: how do they compute for y direc?\n",
    "supercell_2d_center[longest_idx] = 0\n",
    "print(supercell_2d_center)"
   ]
  },
  {
   "cell_type": "code",
   "execution_count": 948,
   "id": "7b342099",
   "metadata": {},
   "outputs": [
    {
     "data": {
      "text/plain": [
       "array([-0.02568162, -0.01571708, -0.00778793])"
      ]
     },
     "execution_count": 948,
     "metadata": {},
     "output_type": "execute_result"
    }
   ],
   "source": [
    "molecule_com"
   ]
  },
  {
   "cell_type": "code",
   "execution_count": 949,
   "id": "4310751a",
   "metadata": {},
   "outputs": [
    {
     "data": {
      "text/plain": [
       "\"# generated using pymatgen\\ndata_Li27Ni27H10C5(NO29)2\\n_symmetry_space_group_name_H-M   'P 1'\\n_cell_length_a   8.71603685\\n_cell_length_b   17.57002403\\n_cell_length_c   26.18722097\\n_cell_angle_alpha   90.00000000\\n_cell_angle_beta   90.00000000\\n_cell_angle_gamma   90.00000152\\n_symmetry_Int_Tables_number   1\\n_chemical_formula_structural   Li27Ni27H10C5(NO29)2\\n_chemical_formula_sum   'Li27 Ni27 H10 C5 N2 O58'\\n_cell_volume   4010.33660195\\n_cell_formula_units_Z   1\\nloop_\\n _symmetry_equiv_pos_site_id\\n _symmetry_equiv_pos_as_xyz\\n  1  'x, y, z'\\nloop_\\n _atom_site_type_symbol\\n _atom_site_label\\n _atom_site_symmetry_multiplicity\\n _atom_site_fract_x\\n _atom_site_fract_y\\n _atom_site_fract_z\\n _atom_site_occupancy\\n  Li  Li0  1  -0.00000035  0.83072587  0.07875608  1\\n  Li  Li1  1  -0.00000018  0.49739279  0.07875616  1\\n  Li  Li2  1  -0.00000002  0.16405970  0.07875624  1\\n  Li  Li3  1  0.16666632  0.74869602  0.15751232  1\\n  Li  Li4  1  0.16666649  0.41536293  0.15751240  1\\n  Li  Li5  1  0.16666666  0.08202985  0.15751247  1\\n  Li  Li6  1  -0.00000033  0.66666616  0.23626855  1\\n  Li  Li7  1  -0.00000017  0.33333308  0.23626863  1\\n  Li  Li8  1  0.00000000  0.00000000  0.23626871  1\\n  Li  Li9  1  0.33333298  0.83072587  0.07875608  1\\n  Li  Li10  1  0.33333315  0.49739279  0.07875616  1\\n  Li  Li11  1  0.33333332  0.16405970  0.07875624  1\\n  Li  Li12  1  0.49999966  0.74869602  0.15751232  1\\n  Li  Li13  1  0.49999982  0.41536293  0.15751240  1\\n  Li  Li14  1  0.49999999  0.08202985  0.15751247  1\\n  Li  Li15  1  0.33333300  0.66666616  0.23626855  1\\n  Li  Li16  1  0.33333317  0.33333308  0.23626863  1\\n  Li  Li17  1  0.33333333  0.00000000  0.23626871  1\\n  Li  Li18  1  0.66666632  0.83072587  0.07875608  1\\n  Li  Li19  1  0.66666648  0.49739279  0.07875616  1\\n  Li  Li20  1  0.66666665  0.16405970  0.07875624  1\\n  Li  Li21  1  0.83333299  0.74869602  0.15751232  1\\n  Li  Li22  1  0.83333316  0.41536293  0.15751240  1\\n  Li  Li23  1  0.83333332  0.08202985  0.15751247  1\\n  Li  Li24  1  0.66666633  0.66666616  0.23626855  1\\n  Li  Li25  1  0.66666650  0.33333308  0.23626863  1\\n  Li  Li26  1  0.66666667  0.00000000  0.23626871  1\\n  Ni  Ni27  1  -0.00000035  0.33072587  0.07875608  1\\n  Ni  Ni28  1  -0.00000018  0.99739279  0.07875616  1\\n  Ni  Ni29  1  -0.00000002  0.66405970  0.07875624  1\\n  Ni  Ni30  1  0.16666632  0.24869602  0.15751232  1\\n  Ni  Ni31  1  0.16666649  0.91536293  0.15751240  1\\n  Ni  Ni32  1  0.16666666  0.58202985  0.15751247  1\\n  Ni  Ni33  1  -0.00000033  0.16666616  0.23626855  1\\n  Ni  Ni34  1  -0.00000017  0.83333308  0.23626863  1\\n  Ni  Ni35  1  0.00000000  0.50000000  0.23626871  1\\n  Ni  Ni36  1  0.33333298  0.33072587  0.07875608  1\\n  Ni  Ni37  1  0.33333315  0.99739279  0.07875616  1\\n  Ni  Ni38  1  0.33333332  0.66405970  0.07875624  1\\n  Ni  Ni39  1  0.49999966  0.24869602  0.15751232  1\\n  Ni  Ni40  1  0.49999982  0.91536293  0.15751240  1\\n  Ni  Ni41  1  0.49999999  0.58202985  0.15751247  1\\n  Ni  Ni42  1  0.33333300  0.16666616  0.23626855  1\\n  Ni  Ni43  1  0.33333317  0.83333308  0.23626863  1\\n  Ni  Ni44  1  0.33333333  0.50000000  0.23626871  1\\n  Ni  Ni45  1  0.66666632  0.33072587  0.07875608  1\\n  Ni  Ni46  1  0.66666648  0.99739279  0.07875616  1\\n  Ni  Ni47  1  0.66666665  0.66405970  0.07875624  1\\n  Ni  Ni48  1  0.83333299  0.24869602  0.15751232  1\\n  Ni  Ni49  1  0.83333316  0.91536293  0.15751240  1\\n  Ni  Ni50  1  0.83333332  0.58202985  0.15751247  1\\n  Ni  Ni51  1  0.66666633  0.16666616  0.23626855  1\\n  Ni  Ni52  1  0.66666650  0.83333308  0.23626863  1\\n  Ni  Ni53  1  0.66666667  0.50000000  0.23626871  1\\n  H  H54  1  0.75837538  0.28756049  0.03649444  1\\n  H  H55  1  0.55675983  0.26788657  0.04239418  1\\n  H  H56  1  0.66123939  0.23551688  -0.01265620  1\\n  H  H57  1  0.24857139  0.47272601  0.00523789  1\\n  H  H58  1  0.29364288  0.52578009  -0.05224352  1\\n  H  H59  1  0.54651014  0.46976665  -0.04908987  1\\n  H  H60  1  0.46693393  0.67609720  0.05987510  1\\n  H  H61  1  0.73435820  0.73072600  0.04007735  1\\n  H  H62  1  0.68487268  0.71252390  -0.02492054  1\\n  H  H63  1  0.58986948  0.78644169  0.00945588  1\\n  C  C64  1  0.65029248  0.28039083  0.01596802  1\\n  C  C65  1  0.33646905  0.50240192  -0.01643401  1\\n  C  C66  1  0.47861539  0.38629487  0.00231166  1\\n  C  C67  1  0.49223882  0.61349234  -0.00511978  1\\n  C  C68  1  0.64030647  0.72949415  0.01233837  1\\n  N  N69  1  0.46003288  0.45078137  -0.02644150  1\\n  N  N70  1  0.52449432  0.67265952  0.02634138  1\\n  O  O71  1  -0.00000019  0.33463374  0.00244325  1\\n  O  O72  1  -0.00000003  0.00130066  0.00244333  1\\n  O  O73  1  -0.00000036  0.66796750  0.00244349  1\\n  O  O74  1  0.16666665  0.40884793  0.07631259  1\\n  O  O75  1  0.16666632  0.07551476  0.07631275  1\\n  O  O76  1  0.16666648  0.74218168  0.07631283  1\\n  O  O77  1  0.16666648  0.25260389  0.08119949  1\\n  O  O78  1  0.16666665  0.91927081  0.08119957  1\\n  O  O79  1  0.16666632  0.58593765  0.08119973  1\\n  O  O80  1  -0.00000001  0.32681807  0.15506883  1\\n  O  O81  1  -0.00000034  0.99348491  0.15506898  1\\n  O  O82  1  -0.00000018  0.66015183  0.15506906  1\\n  O  O83  1  -0.00000018  0.17057404  0.15995573  1\\n  O  O84  1  -0.00000001  0.83724096  0.15995581  1\\n  O  O85  1  -0.00000034  0.50390779  0.15995597  1\\n  O  O86  1  0.16666667  0.24478822  0.23382506  1\\n  O  O87  1  0.16666633  0.91145506  0.23382522  1\\n  O  O88  1  0.16666650  0.57812198  0.23382530  1\\n  O  O89  1  0.33333314  0.33463374  0.00244325  1\\n  O  O90  1  0.33333331  0.00130066  0.00244333  1\\n  O  O91  1  0.33333297  0.66796750  0.00244349  1\\n  O  O92  1  0.49999998  0.40884793  0.07631259  1\\n  O  O93  1  0.49999965  0.07551476  0.07631275  1\\n  O  O94  1  0.49999982  0.74218168  0.07631283  1\\n  O  O95  1  0.49999982  0.25260389  0.08119949  1\\n  O  O96  1  0.49999998  0.91927081  0.08119957  1\\n  O  O97  1  0.49999965  0.58593765  0.08119973  1\\n  O  O98  1  0.33333332  0.32681807  0.15506883  1\\n  O  O99  1  0.33333299  0.99348491  0.15506898  1\\n  O  O100  1  0.33333316  0.66015183  0.15506906  1\\n  O  O101  1  0.33333316  0.17057404  0.15995573  1\\n  O  O102  1  0.33333332  0.83724096  0.15995581  1\\n  O  O103  1  0.33333299  0.50390779  0.15995597  1\\n  O  O104  1  0.50000000  0.24478822  0.23382506  1\\n  O  O105  1  0.49999967  0.91145506  0.23382522  1\\n  O  O106  1  0.49999983  0.57812198  0.23382530  1\\n  O  O107  1  0.66666647  0.33463374  0.00244325  1\\n  O  O108  1  0.66666664  0.00130066  0.00244333  1\\n  O  O109  1  0.66666631  0.66796750  0.00244349  1\\n  O  O110  1  0.83333332  0.40884793  0.07631259  1\\n  O  O111  1  0.83333298  0.07551476  0.07631275  1\\n  O  O112  1  0.83333315  0.74218168  0.07631283  1\\n  O  O113  1  0.83333315  0.25260389  0.08119949  1\\n  O  O114  1  0.83333332  0.91927081  0.08119957  1\\n  O  O115  1  0.83333298  0.58593765  0.08119973  1\\n  O  O116  1  0.66666666  0.32681807  0.15506883  1\\n  O  O117  1  0.66666632  0.99348491  0.15506898  1\\n  O  O118  1  0.66666649  0.66015183  0.15506906  1\\n  O  O119  1  0.66666649  0.17057404  0.15995573  1\\n  O  O120  1  0.66666666  0.83724096  0.15995581  1\\n  O  O121  1  0.66666632  0.50390779  0.15995597  1\\n  O  O122  1  0.83333333  0.24478822  0.23382506  1\\n  O  O123  1  0.83333300  0.91145506  0.23382522  1\\n  O  O124  1  0.83333317  0.57812198  0.23382530  1\\n  O  O125  1  0.61657917  0.35225264  -0.01080003  1\\n  O  O126  1  0.38110455  0.56708025  0.01697825  1\\n  O  O127  1  0.38699254  0.36151900  0.03406198  1\\n  O  O128  1  0.55112961  0.60068680  -0.04738442  1\\n\""
      ]
     },
     "execution_count": 949,
     "metadata": {},
     "output_type": "execute_result"
    }
   ],
   "source": [
    "# Place molecule center in x and y center of supercell\n",
    "molecule_translated_x_y = molecule_at_origin.copy()\n",
    "translation = supercell_2d_center - molecule_com\n",
    "molecule_translated_x_y.translate_sites(range(len(molecule_at_origin)), translation)\n",
    "\n",
    "combined_structure = supercell.copy()\n",
    "for site in molecule_translated_x_y.sites:\n",
    "    combined_structure.append(site.specie, site.coords, coords_are_cartesian=True)\n",
    "\n",
    "combined_structure = combined_structure.get_sorted_structure()\n",
    "\n",
    "# Save result\n",
    "combined_structure.to(filename=\"molecule_at_origin_center_translated_x_y.cif\")"
   ]
  },
  {
   "cell_type": "code",
   "execution_count": null,
   "id": "9f89ac29",
   "metadata": {},
   "outputs": [],
   "source": []
  },
  {
   "cell_type": "code",
   "execution_count": 950,
   "id": "2d48ff34",
   "metadata": {},
   "outputs": [
    {
     "name": "stdout",
     "output_type": "stream",
     "text": [
      "-1.36811259638381\n"
     ]
    }
   ],
   "source": [
    "# Get z-coordinate of lowest atom in molecule\n",
    "z_low_molecule = min(site.z for site in molecule_translated_x_y.sites)\n",
    "print(z_low_molecule)"
   ]
  },
  {
   "cell_type": "code",
   "execution_count": 951,
   "id": "267eafd2",
   "metadata": {},
   "outputs": [
    {
     "data": {
      "text/plain": [
       "\"# generated using pymatgen\\ndata_Li27Ni27H10C5(NO29)2\\n_symmetry_space_group_name_H-M   'P 1'\\n_cell_length_a   8.71603685\\n_cell_length_b   17.57002403\\n_cell_length_c   26.18722097\\n_cell_angle_alpha   90.00000000\\n_cell_angle_beta   90.00000000\\n_cell_angle_gamma   90.00000152\\n_symmetry_Int_Tables_number   1\\n_chemical_formula_structural   Li27Ni27H10C5(NO29)2\\n_chemical_formula_sum   'Li27 Ni27 H10 C5 N2 O58'\\n_cell_volume   4010.33660195\\n_cell_formula_units_Z   1\\nloop_\\n _symmetry_equiv_pos_site_id\\n _symmetry_equiv_pos_as_xyz\\n  1  'x, y, z'\\nloop_\\n _atom_site_type_symbol\\n _atom_site_label\\n _atom_site_symmetry_multiplicity\\n _atom_site_fract_x\\n _atom_site_fract_y\\n _atom_site_fract_z\\n _atom_site_occupancy\\n  Li  Li0  1  -0.00000035  0.83072587  0.07875608  1\\n  Li  Li1  1  -0.00000018  0.49739279  0.07875616  1\\n  Li  Li2  1  -0.00000002  0.16405970  0.07875624  1\\n  Li  Li3  1  0.16666632  0.74869602  0.15751232  1\\n  Li  Li4  1  0.16666649  0.41536293  0.15751240  1\\n  Li  Li5  1  0.16666666  0.08202985  0.15751247  1\\n  Li  Li6  1  -0.00000033  0.66666616  0.23626855  1\\n  Li  Li7  1  -0.00000017  0.33333308  0.23626863  1\\n  Li  Li8  1  0.00000000  0.00000000  0.23626871  1\\n  Li  Li9  1  0.33333298  0.83072587  0.07875608  1\\n  Li  Li10  1  0.33333315  0.49739279  0.07875616  1\\n  Li  Li11  1  0.33333332  0.16405970  0.07875624  1\\n  Li  Li12  1  0.49999966  0.74869602  0.15751232  1\\n  Li  Li13  1  0.49999982  0.41536293  0.15751240  1\\n  Li  Li14  1  0.49999999  0.08202985  0.15751247  1\\n  Li  Li15  1  0.33333300  0.66666616  0.23626855  1\\n  Li  Li16  1  0.33333317  0.33333308  0.23626863  1\\n  Li  Li17  1  0.33333333  0.00000000  0.23626871  1\\n  Li  Li18  1  0.66666632  0.83072587  0.07875608  1\\n  Li  Li19  1  0.66666648  0.49739279  0.07875616  1\\n  Li  Li20  1  0.66666665  0.16405970  0.07875624  1\\n  Li  Li21  1  0.83333299  0.74869602  0.15751232  1\\n  Li  Li22  1  0.83333316  0.41536293  0.15751240  1\\n  Li  Li23  1  0.83333332  0.08202985  0.15751247  1\\n  Li  Li24  1  0.66666633  0.66666616  0.23626855  1\\n  Li  Li25  1  0.66666650  0.33333308  0.23626863  1\\n  Li  Li26  1  0.66666667  0.00000000  0.23626871  1\\n  Ni  Ni27  1  -0.00000035  0.33072587  0.07875608  1\\n  Ni  Ni28  1  -0.00000018  0.99739279  0.07875616  1\\n  Ni  Ni29  1  -0.00000002  0.66405970  0.07875624  1\\n  Ni  Ni30  1  0.16666632  0.24869602  0.15751232  1\\n  Ni  Ni31  1  0.16666649  0.91536293  0.15751240  1\\n  Ni  Ni32  1  0.16666666  0.58202985  0.15751247  1\\n  Ni  Ni33  1  -0.00000033  0.16666616  0.23626855  1\\n  Ni  Ni34  1  -0.00000017  0.83333308  0.23626863  1\\n  Ni  Ni35  1  0.00000000  0.50000000  0.23626871  1\\n  Ni  Ni36  1  0.33333298  0.33072587  0.07875608  1\\n  Ni  Ni37  1  0.33333315  0.99739279  0.07875616  1\\n  Ni  Ni38  1  0.33333332  0.66405970  0.07875624  1\\n  Ni  Ni39  1  0.49999966  0.24869602  0.15751232  1\\n  Ni  Ni40  1  0.49999982  0.91536293  0.15751240  1\\n  Ni  Ni41  1  0.49999999  0.58202985  0.15751247  1\\n  Ni  Ni42  1  0.33333300  0.16666616  0.23626855  1\\n  Ni  Ni43  1  0.33333317  0.83333308  0.23626863  1\\n  Ni  Ni44  1  0.33333333  0.50000000  0.23626871  1\\n  Ni  Ni45  1  0.66666632  0.33072587  0.07875608  1\\n  Ni  Ni46  1  0.66666648  0.99739279  0.07875616  1\\n  Ni  Ni47  1  0.66666665  0.66405970  0.07875624  1\\n  Ni  Ni48  1  0.83333299  0.24869602  0.15751232  1\\n  Ni  Ni49  1  0.83333316  0.91536293  0.15751240  1\\n  Ni  Ni50  1  0.83333332  0.58202985  0.15751247  1\\n  Ni  Ni51  1  0.66666633  0.16666616  0.23626855  1\\n  Ni  Ni52  1  0.66666650  0.83333308  0.23626863  1\\n  Ni  Ni53  1  0.66666667  0.50000000  0.23626871  1\\n  H  H54  1  0.75837538  0.28756049  0.43956637  1\\n  H  H55  1  0.55675983  0.26788657  0.44546611  1\\n  H  H56  1  0.66123939  0.23551688  0.39041572  1\\n  H  H57  1  0.24857139  0.47272601  0.40830982  1\\n  H  H58  1  0.29364288  0.52578009  0.35082841  1\\n  H  H59  1  0.54651014  0.46976665  0.35398205  1\\n  H  H60  1  0.46693393  0.67609720  0.46294703  1\\n  H  H61  1  0.73435820  0.73072600  0.44314927  1\\n  H  H62  1  0.68487268  0.71252390  0.37815138  1\\n  H  H63  1  0.58986948  0.78644169  0.41252780  1\\n  C  C64  1  0.65029248  0.28039083  0.41903994  1\\n  C  C65  1  0.33646905  0.50240192  0.38663791  1\\n  C  C66  1  0.47861539  0.38629487  0.40538358  1\\n  C  C67  1  0.49223882  0.61349234  0.39795214  1\\n  C  C68  1  0.64030647  0.72949415  0.41541029  1\\n  N  N69  1  0.46003288  0.45078137  0.37663043  1\\n  N  N70  1  0.52449432  0.67265952  0.42941331  1\\n  O  O71  1  -0.00000019  0.33463374  0.00244325  1\\n  O  O72  1  -0.00000003  0.00130066  0.00244333  1\\n  O  O73  1  -0.00000036  0.66796750  0.00244349  1\\n  O  O74  1  0.16666665  0.40884793  0.07631259  1\\n  O  O75  1  0.16666632  0.07551476  0.07631275  1\\n  O  O76  1  0.16666648  0.74218168  0.07631283  1\\n  O  O77  1  0.16666648  0.25260389  0.08119949  1\\n  O  O78  1  0.16666665  0.91927081  0.08119957  1\\n  O  O79  1  0.16666632  0.58593765  0.08119973  1\\n  O  O80  1  -0.00000001  0.32681807  0.15506883  1\\n  O  O81  1  -0.00000034  0.99348491  0.15506898  1\\n  O  O82  1  -0.00000018  0.66015183  0.15506906  1\\n  O  O83  1  -0.00000018  0.17057404  0.15995573  1\\n  O  O84  1  -0.00000001  0.83724096  0.15995581  1\\n  O  O85  1  -0.00000034  0.50390779  0.15995597  1\\n  O  O86  1  0.16666667  0.24478822  0.23382506  1\\n  O  O87  1  0.16666633  0.91145506  0.23382522  1\\n  O  O88  1  0.16666650  0.57812198  0.23382530  1\\n  O  O89  1  0.33333314  0.33463374  0.00244325  1\\n  O  O90  1  0.33333331  0.00130066  0.00244333  1\\n  O  O91  1  0.33333297  0.66796750  0.00244349  1\\n  O  O92  1  0.49999998  0.40884793  0.07631259  1\\n  O  O93  1  0.49999965  0.07551476  0.07631275  1\\n  O  O94  1  0.49999982  0.74218168  0.07631283  1\\n  O  O95  1  0.49999982  0.25260389  0.08119949  1\\n  O  O96  1  0.49999998  0.91927081  0.08119957  1\\n  O  O97  1  0.49999965  0.58593765  0.08119973  1\\n  O  O98  1  0.33333332  0.32681807  0.15506883  1\\n  O  O99  1  0.33333299  0.99348491  0.15506898  1\\n  O  O100  1  0.33333316  0.66015183  0.15506906  1\\n  O  O101  1  0.33333316  0.17057404  0.15995573  1\\n  O  O102  1  0.33333332  0.83724096  0.15995581  1\\n  O  O103  1  0.33333299  0.50390779  0.15995597  1\\n  O  O104  1  0.50000000  0.24478822  0.23382506  1\\n  O  O105  1  0.49999967  0.91145506  0.23382522  1\\n  O  O106  1  0.49999983  0.57812198  0.23382530  1\\n  O  O107  1  0.66666647  0.33463374  0.00244325  1\\n  O  O108  1  0.66666664  0.00130066  0.00244333  1\\n  O  O109  1  0.66666631  0.66796750  0.00244349  1\\n  O  O110  1  0.83333332  0.40884793  0.07631259  1\\n  O  O111  1  0.83333298  0.07551476  0.07631275  1\\n  O  O112  1  0.83333315  0.74218168  0.07631283  1\\n  O  O113  1  0.83333315  0.25260389  0.08119949  1\\n  O  O114  1  0.83333332  0.91927081  0.08119957  1\\n  O  O115  1  0.83333298  0.58593765  0.08119973  1\\n  O  O116  1  0.66666666  0.32681807  0.15506883  1\\n  O  O117  1  0.66666632  0.99348491  0.15506898  1\\n  O  O118  1  0.66666649  0.66015183  0.15506906  1\\n  O  O119  1  0.66666649  0.17057404  0.15995573  1\\n  O  O120  1  0.66666666  0.83724096  0.15995581  1\\n  O  O121  1  0.66666632  0.50390779  0.15995597  1\\n  O  O122  1  0.83333333  0.24478822  0.23382506  1\\n  O  O123  1  0.83333300  0.91145506  0.23382522  1\\n  O  O124  1  0.83333317  0.57812198  0.23382530  1\\n  O  O125  1  0.61657917  0.35225264  0.39227189  1\\n  O  O126  1  0.38110455  0.56708025  0.42005017  1\\n  O  O127  1  0.38699254  0.36151900  0.43713390  1\\n  O  O128  1  0.55112961  0.60068680  0.35568751  1\\n\""
      ]
     },
     "execution_count": 951,
     "metadata": {},
     "output_type": "execute_result"
    }
   ],
   "source": [
    "# Then lift molecule along thickest_idx axis to be 3 Å above top\n",
    "\n",
    "# Get z-coordinate of lowest atom in molecule\n",
    "z_low_molecule = min(site.z for site in molecule_translated_x_y.sites)\n",
    "\n",
    "# z_top_supercell = np.max([site.coords[longest_idx] for site in supercell.sites])\n",
    "z_top_supercell = np.max(supercell_cart_coords[:, longest_idx])\n",
    "# molecule_bottom = np.min([site[longest_idx] for site in molecule_rotated.cart_coords])\n",
    "# z_shift = z_top_supercell - molecule_bottom + 3.0  # 3 Å vacuum\n",
    "translation_z = np.zeros(3)\n",
    "translation_z[longest_idx] = z_top_supercell - z_low_molecule + 3.0  # 3 Å vacuum\n",
    "\n",
    "molecule_translated_x_y_z = molecule_translated_x_y.copy()\n",
    "molecule_translated_x_y_z.translate_sites(range(len(molecule_translated_x_y)), translation_z)\n",
    "\n",
    "combined_structure = supercell.copy()\n",
    "for site in molecule_translated_x_y_z.sites:\n",
    "    combined_structure.append(site.specie, site.coords, coords_are_cartesian=True)\n",
    "\n",
    "combined_structure = combined_structure.get_sorted_structure()\n",
    "\n",
    "# Save result\n",
    "combined_structure.to(filename=\"molecule_at_origin_center_translated_x_y_z.cif\")"
   ]
  },
  {
   "cell_type": "code",
   "execution_count": 952,
   "id": "cfba8613",
   "metadata": {},
   "outputs": [],
   "source": [
    "# # Then lift molecule along longest axis to be 3 Å above top\n",
    "# molecule_translated_x_y_z = molecule_translated_x_y.copy()\n",
    "# offset = np.zeros(3)\n",
    "# offset[longest_idx] = supercell_max - np.min(molecule_cart_coords[:, longest_idx]) + 3.0\n",
    "# molecule_translated_x_y_z.translate_sites(range(len(molecule_translated_x_y)), offset)\n",
    "\n",
    "# print(\"Note: doesn't work\")"
   ]
  },
  {
   "cell_type": "code",
   "execution_count": 953,
   "id": "a5d20e90",
   "metadata": {},
   "outputs": [
    {
     "ename": "NameError",
     "evalue": "name 'xx' is not defined",
     "output_type": "error",
     "traceback": [
      "\u001b[31m---------------------------------------------------------------------------\u001b[39m",
      "\u001b[31mNameError\u001b[39m                                 Traceback (most recent call last)",
      "\u001b[36mCell\u001b[39m\u001b[36m \u001b[39m\u001b[32mIn[953]\u001b[39m\u001b[32m, line 1\u001b[39m\n\u001b[32m----> \u001b[39m\u001b[32m1\u001b[39m \u001b[43mxx\u001b[49m - yyyy\n",
      "\u001b[31mNameError\u001b[39m: name 'xx' is not defined"
     ]
    }
   ],
   "source": [
    "xx - yyyy"
   ]
  },
  {
   "cell_type": "code",
   "execution_count": null,
   "id": "2c5a5168",
   "metadata": {},
   "outputs": [],
   "source": []
  },
  {
   "cell_type": "markdown",
   "id": "ef3ff115",
   "metadata": {},
   "source": [
    "# Combine"
   ]
  },
  {
   "cell_type": "code",
   "execution_count": null,
   "id": "0cf3ecf4",
   "metadata": {},
   "outputs": [],
   "source": [
    "molecule_structure = Structure(lattice=supercell.lattice, species=molecule_translated_x_y_z.species, coords=molecule_translated_x_y_z.cart_coords, coords_are_cartesian=True)"
   ]
  },
  {
   "cell_type": "code",
   "execution_count": null,
   "id": "08e78939",
   "metadata": {},
   "outputs": [],
   "source": [
    "molecule_structure"
   ]
  },
  {
   "cell_type": "code",
   "execution_count": null,
   "id": "f327596e",
   "metadata": {},
   "outputs": [],
   "source": [
    "combined_structure = supercell.copy()\n",
    "for site in molecule_translated_x_y_z.sites:\n",
    "    combined_structure.append(site.specie, site.coords, coords_are_cartesian=True)\n",
    "\n",
    "combined_structure = combined_structure.get_sorted_structure()\n",
    "\n",
    "# Save result\n",
    "combined_structure.to(filename=\"combined_structure_v4.cif\")\n",
    "combined_structure.to(filename=\"POSCAR_combined_structure\")"
   ]
  },
  {
   "cell_type": "code",
   "execution_count": null,
   "id": "8b0083e5",
   "metadata": {},
   "outputs": [],
   "source": [
    "# Combine structures\n",
    "# combined_sites = list(supercell.sites) + list(molecule_structure.sites)\n",
    "# final_structure = Structure.from_sites(combined_sites)\n",
    "\n",
    "# # Save or visualize\n",
    "# final_structure.to(filename=\"POSCAR_combined\")"
   ]
  },
  {
   "cell_type": "code",
   "execution_count": null,
   "id": "5e7b5afe",
   "metadata": {},
   "outputs": [],
   "source": [
    "final_structure"
   ]
  },
  {
   "cell_type": "code",
   "execution_count": null,
   "id": "b48e76a3",
   "metadata": {},
   "outputs": [],
   "source": [
    "combined"
   ]
  },
  {
   "cell_type": "code",
   "execution_count": null,
   "id": "ff187c49",
   "metadata": {},
   "outputs": [],
   "source": []
  }
 ],
 "metadata": {
  "kernelspec": {
   "display_name": "full_automate",
   "language": "python",
   "name": "python3"
  },
  "language_info": {
   "codemirror_mode": {
    "name": "ipython",
    "version": 3
   },
   "file_extension": ".py",
   "mimetype": "text/x-python",
   "name": "python",
   "nbconvert_exporter": "python",
   "pygments_lexer": "ipython3",
   "version": "3.11.11"
  }
 },
 "nbformat": 4,
 "nbformat_minor": 5
}
