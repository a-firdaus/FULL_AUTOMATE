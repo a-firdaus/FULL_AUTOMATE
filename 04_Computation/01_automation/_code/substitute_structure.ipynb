{
 "cells": [
  {
   "cell_type": "code",
   "execution_count": 176,
   "id": "6e68ed03",
   "metadata": {},
   "outputs": [],
   "source": [
    "# from pymatgen.ext.matproj import MPRester\n",
    "# from pymatgen.core import Structure\n",
    "# from pymatgen.core.surface import SlabGenerator\n",
    "\n",
    "from mp_api.client import MPRester\n",
    "import crystal_toolkit\n",
    "\n",
    "from pymatgen.transformations.advanced_transformations import SlabTransformation\n",
    "from pymatgen.core import Structure, Lattice"
   ]
  },
  {
   "cell_type": "code",
   "execution_count": 116,
   "id": "13082e69",
   "metadata": {},
   "outputs": [],
   "source": [
    "from pymatgen.io.vasp import Poscar"
   ]
  },
  {
   "cell_type": "code",
   "execution_count": 117,
   "id": "56290738",
   "metadata": {},
   "outputs": [],
   "source": [
    "def save_cif(structure, name_cife):\n",
    "    cif_filename = f\"{name_cife}.cif\"\n",
    "    structure.to(fmt=\"cif\", filename=cif_filename)\n",
    "\n",
    "    print(f\"CIF file written as {cif_filename}\")"
   ]
  },
  {
   "cell_type": "code",
   "execution_count": 133,
   "id": "0a0f401d",
   "metadata": {},
   "outputs": [],
   "source": [
    "def orthogonalize_structure(structure_pymat):\n",
    "    # Create new lattice with 90° angles\n",
    "    new_structure_pymat = Lattice.from_parameters(\n",
    "        a=structure_pymat.lattice.a,\n",
    "        b=structure_pymat.lattice.b,\n",
    "        c=structure_pymat.lattice.c,\n",
    "        alpha=90,  # Modified angle\n",
    "        beta=90,   # Modified angle\n",
    "        gamma=90   # Modified angle\n",
    "    )\n",
    "\n",
    "    # Update structure with new lattice while keeping fractional coordinates\n",
    "    structure_ortho_pymat = Structure(\n",
    "        lattice=new_structure_pymat,\n",
    "        species=structure_pymat.species,\n",
    "        coords=structure_pymat.frac_coords,\n",
    "        coords_are_cartesian=False\n",
    "    )\n",
    "\n",
    "    structure_ortho_ase = structure_ortho_pymat.to_ase_atoms()\n",
    "\n",
    "    return structure_ortho_ase, structure_ortho_pymat"
   ]
  },
  {
   "cell_type": "markdown",
   "id": "14a95178",
   "metadata": {},
   "source": [
    "# Create Slab and Supercell"
   ]
  },
  {
   "cell_type": "markdown",
   "id": "a90418b4",
   "metadata": {},
   "source": [
    "## Call cathode materials from Materials Project"
   ]
  },
  {
   "cell_type": "code",
   "execution_count": 118,
   "id": "be830dde",
   "metadata": {},
   "outputs": [
    {
     "name": "stderr",
     "output_type": "stream",
     "text": [
      "Retrieving SummaryDoc documents: 100%|██████████| 1/1 [00:00<00:00, 7096.96it/s]"
     ]
    },
    {
     "name": "stdout",
     "output_type": "stream",
     "text": [
      "Full Formula (Li1 Ni1 O2)\n",
      "Reduced Formula: LiNiO2\n",
      "abc   :   4.969023   4.969024   4.969022\n",
      "angles:  33.418400  33.418392  33.418404\n",
      "pbc   :       True       True       True\n",
      "Sites (4)\n",
      "  #  SP           a         b         c    magmom\n",
      "---  ----  --------  --------  --------  --------\n",
      "  0  Li    2e-06     2e-06     2e-06        0.004\n",
      "  1  Ni    0.500001  0.500001  0.500001     0.959\n",
      "  2  O     0.759016  0.759016  0.759016     0.006\n",
      "  3  O     0.240982  0.240982  0.240982     0.006\n"
     ]
    },
    {
     "name": "stderr",
     "output_type": "stream",
     "text": [
      "\n"
     ]
    }
   ],
   "source": [
    "api_key = \"DYEm5SmJXXuDYcbXQPwQReoTqyme8WbK\"  # Add your Materials Project API key here\n",
    "\n",
    "mp_id = \"mp-25411\"\n",
    "\n",
    "with MPRester(api_key) as mpr:\n",
    "    # structure = mpr.get_structure_by_material_id(mp_id)\n",
    "    docs = mpr.materials.summary.search(material_ids=[mp_id], fields=[\"structure\"])\n",
    "\n",
    "    structure = docs[0].structure\n",
    "\n",
    "    # origin_data = structure[0].origins\n",
    "    # print(origin_data)\n",
    "\n",
    "# primitive_cell = structure.get_primitive_structure()\n",
    "# primitive_cell.to(\"structure.cif\")\n",
    "\n",
    "print(structure)"
   ]
  },
  {
   "cell_type": "code",
   "execution_count": 125,
   "id": "0f4fe942",
   "metadata": {},
   "outputs": [
    {
     "data": {
      "text/html": [
       "\n",
       "        <iframe\n",
       "            width=\"100%\"\n",
       "            height=\"650\"\n",
       "            src=\"http://127.0.0.1:8884/\"\n",
       "            frameborder=\"0\"\n",
       "            allowfullscreen\n",
       "            \n",
       "        ></iframe>\n",
       "        "
      ],
      "text/plain": [
       "<IPython.lib.display.IFrame at 0x7f34ac25d810>"
      ]
     },
     "metadata": {},
     "output_type": "display_data"
    }
   ],
   "source": [
    "structure"
   ]
  },
  {
   "cell_type": "code",
   "execution_count": 120,
   "id": "661f903d",
   "metadata": {},
   "outputs": [
    {
     "name": "stdout",
     "output_type": "stream",
     "text": [
      "CIF file written as mp-25411.cif\n"
     ]
    }
   ],
   "source": [
    "# Write the structure to a CIF file\n",
    "save_cif(structure, f\"{mp_id}\")"
   ]
  },
  {
   "cell_type": "markdown",
   "id": "6734693b",
   "metadata": {},
   "source": [
    "## Create a standardized structure"
   ]
  },
  {
   "cell_type": "code",
   "execution_count": 121,
   "id": "e5a8591d",
   "metadata": {},
   "outputs": [],
   "source": [
    "from pymatgen.symmetry.analyzer import SpacegroupAnalyzer"
   ]
  },
  {
   "cell_type": "code",
   "execution_count": 122,
   "id": "ea381949",
   "metadata": {},
   "outputs": [
    {
     "name": "stdout",
     "output_type": "stream",
     "text": [
      "Full Formula (Li3 Ni3 O6)\n",
      "Reduced Formula: LiNiO2\n",
      "abc   :   2.857331   2.857331  14.061569\n",
      "angles:  90.000000  90.000000 120.000000\n",
      "pbc   :       True       True       True\n",
      "Sites (12)\n",
      "  #  SP           a         b         c\n",
      "---  ----  --------  --------  --------\n",
      "  0  Li    0         0         0\n",
      "  1  Li    0.666667  0.333333  0.333333\n",
      "  2  Li    0.333333  0.666667  0.666667\n",
      "  3  Ni    0.333333  0.666667  0.166667\n",
      "  4  Ni    1         1         0.5\n",
      "  5  Ni    0.666667  0.333333  0.833333\n",
      "  6  O     0.666667  0.333333  0.092349\n",
      "  7  O     0         0         0.240984\n",
      "  8  O     0.333333  0.666667  0.425683\n",
      "  9  O     0.666667  0.333333  0.574317\n",
      " 10  O     0         0         0.759016\n",
      " 11  O     0.333333  0.666667  0.907651\n"
     ]
    }
   ],
   "source": [
    "analyzer = SpacegroupAnalyzer(structure) \n",
    "# try with symprec = 0.1 (looser one for materials project)\n",
    "structure_standardized_mp = analyzer.get_conventional_standard_structure()\n",
    "\n",
    "print(structure_standardized_mp)"
   ]
  },
  {
   "cell_type": "code",
   "execution_count": 123,
   "id": "7d65af35",
   "metadata": {},
   "outputs": [
    {
     "data": {
      "text/html": [
       "\n",
       "        <iframe\n",
       "            width=\"100%\"\n",
       "            height=\"650\"\n",
       "            src=\"http://127.0.0.1:8884/\"\n",
       "            frameborder=\"0\"\n",
       "            allowfullscreen\n",
       "            \n",
       "        ></iframe>\n",
       "        "
      ],
      "text/plain": [
       "<IPython.lib.display.IFrame at 0x7f3485b32b90>"
      ]
     },
     "metadata": {},
     "output_type": "display_data"
    }
   ],
   "source": [
    "structure_standardized_mp"
   ]
  },
  {
   "cell_type": "code",
   "execution_count": 124,
   "id": "1fc6e971",
   "metadata": {},
   "outputs": [
    {
     "name": "stdout",
     "output_type": "stream",
     "text": [
      "CIF file written as mp-25411_std.cif\n"
     ]
    }
   ],
   "source": [
    "# Write the structure to a CIF file\n",
    "save_cif(structure_standardized_mp, f\"{mp_id}_std\")\n",
    "# cif_filename_std = f\"{mp_id}_std.cif\"\n",
    "# structure_standardized.to(fmt=\"cif\", filename=cif_filename_std)\n",
    "\n",
    "# print(f\"CIF file standardized and saved as {cif_filename_std}\")"
   ]
  },
  {
   "cell_type": "markdown",
   "id": "6a89a13d",
   "metadata": {},
   "source": [
    "## Read POSCAR used by Alex'"
   ]
  },
  {
   "cell_type": "code",
   "execution_count": 177,
   "id": "76416b3c",
   "metadata": {},
   "outputs": [
    {
     "data": {
      "text/html": [
       "\n",
       "        <iframe\n",
       "            width=\"100%\"\n",
       "            height=\"650\"\n",
       "            src=\"http://127.0.0.1:8884/\"\n",
       "            frameborder=\"0\"\n",
       "            allowfullscreen\n",
       "            \n",
       "        ></iframe>\n",
       "        "
      ],
      "text/plain": [
       "<IPython.lib.display.IFrame at 0x7f34ac486110>"
      ]
     },
     "metadata": {},
     "output_type": "display_data"
    }
   ],
   "source": [
    "# Read a POSCAR and write to a CIF.\n",
    "structure_alex = Structure.from_file(\"quantumatk/POSCAR_mp-25411_alex\")\n",
    "# structure.to(filename=\"CsCl.cif\")\n",
    "structure_alex"
   ]
  },
  {
   "cell_type": "code",
   "execution_count": 128,
   "id": "f2bdf010",
   "metadata": {},
   "outputs": [
    {
     "name": "stdout",
     "output_type": "stream",
     "text": [
      "Full Formula (Li3 Ni3 O6)\n",
      "Reduced Formula: LiNiO2\n",
      "abc   :   2.905345   2.905346  14.401854\n",
      "angles:  90.000000  90.000000 120.000004\n",
      "pbc   :       True       True       True\n",
      "Sites (12)\n",
      "  #  SP           a         b         c\n",
      "---  ----  --------  --------  --------\n",
      "  0  Li    0.333333  0.666667  0.166667\n",
      "  1  Li    0         0         0.5\n",
      "  2  Li    0.666667  0.333333  0.833333\n",
      "  3  Ni    0         0         0\n",
      "  4  Ni    0.666667  0.333333  0.333333\n",
      "  5  Ni    0.333333  0.666667  0.666667\n",
      "  6  O     0.666667  0.333333  0.075577\n",
      "  7  O     0         0         0.257756\n",
      "  8  O     0.333333  0.666667  0.40891\n",
      "  9  O     0.666667  0.333333  0.59109\n",
      " 10  O     0         0         0.742244\n",
      " 11  O     0.333333  0.666667  0.924423\n"
     ]
    }
   ],
   "source": [
    "print(structure_alex)"
   ]
  },
  {
   "cell_type": "code",
   "execution_count": 144,
   "id": "98cbf82f",
   "metadata": {},
   "outputs": [
    {
     "data": {
      "text/html": [
       "\n",
       "        <iframe\n",
       "            width=\"100%\"\n",
       "            height=\"650\"\n",
       "            src=\"http://127.0.0.1:8884/\"\n",
       "            frameborder=\"0\"\n",
       "            allowfullscreen\n",
       "            \n",
       "        ></iframe>\n",
       "        "
      ],
      "text/plain": [
       "<IPython.lib.display.IFrame at 0x7f3486e915d0>"
      ]
     },
     "metadata": {},
     "output_type": "display_data"
    }
   ],
   "source": [
    "structure_alex_ortho_ase, structure_alex_ortho_pymat = orthogonalize_structure(structure_alex)\n",
    "structure_alex_ortho_pymat"
   ]
  },
  {
   "cell_type": "code",
   "execution_count": 145,
   "id": "dd43777b",
   "metadata": {},
   "outputs": [
    {
     "name": "stdout",
     "output_type": "stream",
     "text": [
      "Full Formula (Li3 Ni3 O6)\n",
      "Reduced Formula: LiNiO2\n",
      "abc   :   2.905345   2.905346  14.401854\n",
      "angles:  90.000000  90.000000  90.000000\n",
      "pbc   :       True       True       True\n",
      "Sites (12)\n",
      "  #  SP           a         b         c\n",
      "---  ----  --------  --------  --------\n",
      "  0  Li    0.333333  0.666667  0.166667\n",
      "  1  Li    0         0         0.5\n",
      "  2  Li    0.666667  0.333333  0.833333\n",
      "  3  Ni    0         0         0\n",
      "  4  Ni    0.666667  0.333333  0.333333\n",
      "  5  Ni    0.333333  0.666667  0.666667\n",
      "  6  O     0.666667  0.333333  0.075577\n",
      "  7  O     0         0         0.257756\n",
      "  8  O     0.333333  0.666667  0.40891\n",
      "  9  O     0.666667  0.333333  0.59109\n",
      " 10  O     0         0         0.742244\n",
      " 11  O     0.333333  0.666667  0.924423\n"
     ]
    }
   ],
   "source": [
    "print(structure_alex_ortho_pymat)"
   ]
  },
  {
   "cell_type": "markdown",
   "id": "40c6304b",
   "metadata": {},
   "source": [
    "## Create a slab using ASE"
   ]
  },
  {
   "cell_type": "code",
   "execution_count": 168,
   "id": "c02adc23",
   "metadata": {},
   "outputs": [],
   "source": [
    "structure_standardized = structure_alex"
   ]
  },
  {
   "cell_type": "code",
   "execution_count": 169,
   "id": "74bd6ba5",
   "metadata": {},
   "outputs": [],
   "source": [
    "# Compute the plane spacing from the lattice and miller index\n",
    "from pymatgen.core.surface import get_symmetrically_distinct_miller_indices\n",
    "# from pymatgen.analysis.surface_analysis import get_spacing\n",
    "\n",
    "import ase as ase\n",
    "from ase.build import surface, bulk, cut, make_supercell, add_vacuum\n",
    "from pymatgen.io.ase import AseAtomsAdaptor\n",
    "\n",
    "# structure = structure_standardized\n",
    "structure_standardized_ase = AseAtomsAdaptor.get_atoms(structure_standardized)   # convert the pymatgen structure to an ASE object\n",
    "# length = 20"
   ]
  },
  {
   "cell_type": "markdown",
   "id": "b918d952",
   "metadata": {},
   "source": [
    "### Create using cut()"
   ]
  },
  {
   "cell_type": "code",
   "execution_count": 170,
   "id": "aa69346d",
   "metadata": {},
   "outputs": [],
   "source": [
    "# # Cut with a and b aligned differently\n",
    "# slab_cut_ase = cut(\n",
    "#     atoms=structure_standardized_ase,\n",
    "#     a=(0, 1, 0),  # y becomes a-axis\n",
    "#     b=(1, 0, 0),  # x becomes b-axis\n",
    "#     c=(1, 0, 4),  # (104) direction along z\n",
    "#     nlayers=3,\n",
    "#     origo=(0, 0, 0),\n",
    "#     extend=1.0\n",
    "# )\n",
    "\n",
    "# slab_cut_pymat = AseAtomsAdaptor.get_structure(slab_cut_ase)\n",
    "# slab_cut_pymat"
   ]
  },
  {
   "cell_type": "markdown",
   "id": "fabe3c37",
   "metadata": {},
   "source": [
    "### Automatically add 20 \\AA (in total) while creating the slab using $surface()$"
   ]
  },
  {
   "cell_type": "code",
   "execution_count": 173,
   "id": "be9a25eb",
   "metadata": {},
   "outputs": [
    {
     "data": {
      "text/html": [
       "\n",
       "        <iframe\n",
       "            width=\"100%\"\n",
       "            height=\"650\"\n",
       "            src=\"http://127.0.0.1:8884/\"\n",
       "            frameborder=\"0\"\n",
       "            allowfullscreen\n",
       "            \n",
       "        ></iframe>\n",
       "        "
      ],
      "text/plain": [
       "<IPython.lib.display.IFrame at 0x7f34a4507c50>"
      ]
     },
     "metadata": {},
     "output_type": "display_data"
    }
   ],
   "source": [
    "slab_10_ase = surface(structure_standardized_ase,(1,0,4),layers=2,vacuum=10)\n",
    "\n",
    "slab_10_pymat = AseAtomsAdaptor.get_structure(slab_10_ase)\n",
    "slab_10_pymat"
   ]
  },
  {
   "cell_type": "code",
   "execution_count": 174,
   "id": "b19f2408",
   "metadata": {},
   "outputs": [
    {
     "name": "stdout",
     "output_type": "stream",
     "text": [
      "Full Formula (Li6 Ni6 O12)\n",
      "Reduced Formula: LiNiO2\n",
      "abc   :  18.505942   2.905346  24.124812\n",
      "angles:  90.000000  90.000000 108.299885\n",
      "pbc   :       True       True      False\n",
      "Sites (24)\n",
      "  #  SP           a         b         c    tags\n",
      "---  ----  --------  --------  --------  ------\n",
      "  0  Li    0.833333  0.666667  0.414511       2\n",
      "  1  Li    0.5       0         0.414511       2\n",
      "  2  Li    0.248697  0.997393  0.5            2\n",
      "  3  Li    0.915363  0.330726  0.5            1\n",
      "  4  Li    0.58203   0.66406   0.5            1\n",
      "  5  Li    0.330727  0.661453  0.585489       1\n",
      "  6  Ni    0         0         0.414511       2\n",
      "  7  Ni    0.748697  0.997393  0.5            2\n",
      "  8  Ni    0.333333  0.666667  0.414511       2\n",
      "  9  Ni    0.08203   0.66406   0.5            1\n",
      " 10  Ni    0.830727  0.661453  0.585489       1\n",
      " 11  Ni    0.415363  0.330726  0.5            1\n",
      " 12  O     0.003908  0.007815  0.497348       2\n",
      " 13  O     0.744789  0.989578  0.417163       2\n",
      " 14  O     0.670575  0.34115   0.497348       2\n",
      " 15  O     0.411455  0.32291   0.417163       2\n",
      " 16  O     0.337241  0.674482  0.497348       2\n",
      " 17  O     0.078122  0.656244  0.417163       2\n",
      " 18  O     0.085938  0.671875  0.582837       1\n",
      " 19  O     0.826819  0.653638  0.502652       1\n",
      " 20  O     0.752605  0.00521   0.582837       1\n",
      " 21  O     0.493485  0.98697   0.502653       1\n",
      " 22  O     0.419271  0.338542  0.582837       1\n",
      " 23  O     0.160152  0.320304  0.502652       1\n",
      "CIF file written as mp-25411_slab_10_sorted_noorthoposcar_2lay.cif\n"
     ]
    }
   ],
   "source": [
    "slab_10_sorted_pymat = slab_10_pymat.get_sorted_structure()\n",
    "print(slab_10_sorted_pymat)\n",
    "save_cif(slab_10_sorted_pymat, f\"{mp_id}_slab_10_sorted_noorthoposcar_2lay\")\n",
    "poscar = Poscar(slab_10_sorted_pymat)\n",
    "poscar.write_file(f\"POSCAR_{mp_id}_slab_10_sorted_noorthoposcar_2lay\")"
   ]
  },
  {
   "cell_type": "markdown",
   "id": "1b5d8a81",
   "metadata": {},
   "source": [
    "#### Structure to sit on top of the vacuum"
   ]
  },
  {
   "cell_type": "code",
   "execution_count": 150,
   "id": "597103a6",
   "metadata": {},
   "outputs": [
    {
     "data": {
      "text/html": [
       "\n",
       "        <iframe\n",
       "            width=\"100%\"\n",
       "            height=\"650\"\n",
       "            src=\"http://127.0.0.1:8884/\"\n",
       "            frameborder=\"0\"\n",
       "            allowfullscreen\n",
       "            \n",
       "        ></iframe>\n",
       "        "
      ],
      "text/plain": [
       "<IPython.lib.display.IFrame at 0x7f34878cdb50>"
      ]
     },
     "metadata": {},
     "output_type": "display_data"
    }
   ],
   "source": [
    "slab_10_top_vacuum_ase = slab_10_ase.copy()\n",
    "\n",
    "# Move the slab so it sits at the bottom of the cell (i.e., vacuum is on top)\n",
    "positions = slab_10_ase.get_positions()\n",
    "z_positions = positions[:, 2]\n",
    "z_shift = -min(z_positions)  # Shift so the lowest atom is at z = 0\n",
    "positions[:, 2] += z_shift\n",
    "slab_10_top_vacuum_ase.set_positions(positions)\n",
    "\n",
    "# # Optional: check or print the final z-range\n",
    "# z_min, z_max = slab_10_ase.get_positions()[:, 2].min(), slab_10_ase.get_positions()[:, 2].max()\n",
    "# print(f\"Slab z-range: {z_min:.2f} Å to {z_max:.2f} Å\")\n",
    "\n",
    "slab_10_top_vacuum_pymat = AseAtomsAdaptor.get_structure(slab_10_top_vacuum_ase)\n",
    "slab_10_top_vacuum_pymat"
   ]
  },
  {
   "cell_type": "markdown",
   "id": "77b0c20f",
   "metadata": {},
   "source": [
    "#### Orthogonalize slab"
   ]
  },
  {
   "cell_type": "code",
   "execution_count": 151,
   "id": "1fe56410",
   "metadata": {},
   "outputs": [
    {
     "data": {
      "text/html": [
       "\n",
       "        <iframe\n",
       "            width=\"100%\"\n",
       "            height=\"650\"\n",
       "            src=\"http://127.0.0.1:8884/\"\n",
       "            frameborder=\"0\"\n",
       "            allowfullscreen\n",
       "            \n",
       "        ></iframe>\n",
       "        "
      ],
      "text/plain": [
       "<IPython.lib.display.IFrame at 0x7f3477d4db50>"
      ]
     },
     "metadata": {},
     "output_type": "display_data"
    }
   ],
   "source": [
    "# slab_10_top_vacuum_ortho_ase, slab_10_top_vacuum_ortho_pymat = orthogonalize_structure(slab_10_top_vacuum_pymat)\n",
    "# slab_10_top_vacuum_ortho_pymat\n",
    "# print(\"Note: orthogonalizing removes the tags of layers\")"
   ]
  },
  {
   "cell_type": "markdown",
   "id": "c29af2a3",
   "metadata": {},
   "source": [
    "#### Create supercell"
   ]
  },
  {
   "cell_type": "code",
   "execution_count": 156,
   "id": "529bb316",
   "metadata": {},
   "outputs": [
    {
     "data": {
      "text/html": [
       "\n",
       "        <iframe\n",
       "            width=\"100%\"\n",
       "            height=\"650\"\n",
       "            src=\"http://127.0.0.1:8884/\"\n",
       "            frameborder=\"0\"\n",
       "            allowfullscreen\n",
       "            \n",
       "        ></iframe>\n",
       "        "
      ],
      "text/plain": [
       "<IPython.lib.display.IFrame at 0x7f34aef3ce50>"
      ]
     },
     "metadata": {},
     "output_type": "display_data"
    }
   ],
   "source": [
    "sc_10_top_vacuum_ortho_ase = slab_10_top_vacuum_ase.repeat((1, 3, 1))\n",
    "\n",
    "sc_10_top_vacuum_ortho_pymat = AseAtomsAdaptor.get_structure(sc_10_top_vacuum_ortho_ase)\n",
    "sc_10_top_vacuum_ortho_pymat"
   ]
  },
  {
   "cell_type": "markdown",
   "id": "5d1a7659",
   "metadata": {},
   "source": [
    "#### Manually swap so that x-side becomes y-side as in Quantumatk"
   ]
  },
  {
   "cell_type": "code",
   "execution_count": 157,
   "id": "d5406719",
   "metadata": {},
   "outputs": [
    {
     "data": {
      "text/html": [
       "\n",
       "        <iframe\n",
       "            width=\"100%\"\n",
       "            height=\"650\"\n",
       "            src=\"http://127.0.0.1:8884/\"\n",
       "            frameborder=\"0\"\n",
       "            allowfullscreen\n",
       "            \n",
       "        ></iframe>\n",
       "        "
      ],
      "text/plain": [
       "<IPython.lib.display.IFrame at 0x7f34ad185b50>"
      ]
     },
     "metadata": {},
     "output_type": "display_data"
    }
   ],
   "source": [
    "sc_10_top_vacuum_ortho_rotated_ase = sc_10_top_vacuum_ortho_ase.copy()\n",
    "\n",
    "# Swap a and b vectors\n",
    "cell = sc_10_top_vacuum_ortho_rotated_ase.cell\n",
    "sc_10_top_vacuum_ortho_rotated_ase.set_cell([cell[1], -cell[0], cell[2]], scale_atoms=True)\n",
    "\n",
    "sc_10_top_vacuum_ortho_rotated_pymat = AseAtomsAdaptor.get_structure(sc_10_top_vacuum_ortho_rotated_ase)\n",
    "sc_10_top_vacuum_ortho_rotated_pymat"
   ]
  },
  {
   "cell_type": "code",
   "execution_count": 158,
   "id": "b90d2c6c",
   "metadata": {},
   "outputs": [
    {
     "name": "stdout",
     "output_type": "stream",
     "text": [
      "Full Formula (Li27 Ni27 O54)\n",
      "Reduced Formula: LiNiO2\n",
      "abc   :   8.716037  18.505942  26.783066\n",
      "angles:  90.000000  90.000000  90.000000\n",
      "pbc   :       True       True      False\n",
      "Sites (108)\n",
      "  #  SP           a         b         c    tags\n",
      "---  ----  --------  --------  --------  ------\n",
      "  0  Li    0.833333  0.222222  0              3\n",
      "  1  Li    0.5       0         0              3\n",
      "  2  Li    0.265257  0.111111  0.08442        3\n",
      "  3  Li    0.931923  0.222222  0.08442        2\n",
      "  4  Li    0.59859   0         0.08442        2\n",
      "  5  Li    0.363847  0.111111  0.16884        2\n",
      "  6  Li    0.030513  0.222222  0.16884        1\n",
      "  7  Li    0.69718   0         0.16884        1\n",
      "  8  Li    0.462437  0.111111  0.25326        1\n",
      "  9  Li    0.833333  0.555556  0              3\n",
      " 10  Li    0.5       0.333333  0              3\n",
      " 11  Li    0.265257  0.444444  0.08442        3\n",
      " 12  Li    0.931923  0.555556  0.08442        2\n",
      " 13  Li    0.59859   0.333333  0.08442        2\n",
      " 14  Li    0.363847  0.444444  0.16884        2\n",
      " 15  Li    0.030513  0.555556  0.16884        1\n",
      " 16  Li    0.69718   0.333333  0.16884        1\n",
      " 17  Li    0.462437  0.444444  0.25326        1\n",
      " 18  Li    0.833333  0.888889  0              3\n",
      " 19  Li    0.5       0.666667  0              3\n",
      " 20  Li    0.265257  0.777778  0.08442        3\n",
      " 21  Li    0.931923  0.888889  0.08442        2\n",
      " 22  Li    0.59859   0.666667  0.08442        2\n",
      " 23  Li    0.363847  0.777778  0.16884        2\n",
      " 24  Li    0.030513  0.888889  0.16884        1\n",
      " 25  Li    0.69718   0.666667  0.16884        1\n",
      " 26  Li    0.462437  0.777778  0.25326        1\n",
      " 27  Ni    0         0         0              3\n",
      " 28  Ni    0.765257  0.111111  0.08442        3\n",
      " 29  Ni    0.333333  0.222222  0              3\n",
      " 30  Ni    0.09859   0         0.08442        2\n",
      " 31  Ni    0.863847  0.111111  0.16884        2\n",
      " 32  Ni    0.431923  0.222222  0.08442        2\n",
      " 33  Ni    0.19718   0         0.16884        1\n",
      " 34  Ni    0.962437  0.111111  0.25326        1\n",
      " 35  Ni    0.530513  0.222222  0.16884        1\n",
      " 36  Ni    0         0.333333  0              3\n",
      " 37  Ni    0.765257  0.444444  0.08442        3\n",
      " 38  Ni    0.333333  0.555556  0              3\n",
      " 39  Ni    0.09859   0.333333  0.08442        2\n",
      " 40  Ni    0.863847  0.444444  0.16884        2\n",
      " 41  Ni    0.431923  0.555556  0.08442        2\n",
      " 42  Ni    0.19718   0.333333  0.16884        1\n",
      " 43  Ni    0.962437  0.444444  0.25326        1\n",
      " 44  Ni    0.530513  0.555556  0.16884        1\n",
      " 45  Ni    0         0.666667  0              3\n",
      " 46  Ni    0.765257  0.777778  0.08442        3\n",
      " 47  Ni    0.333333  0.888889  0              3\n",
      " 48  Ni    0.09859   0.666667  0.08442        2\n",
      " 49  Ni    0.863847  0.777778  0.16884        2\n",
      " 50  Ni    0.431923  0.888889  0.08442        2\n",
      " 51  Ni    0.19718   0.666667  0.16884        1\n",
      " 52  Ni    0.962437  0.777778  0.25326        1\n",
      " 53  Ni    0.530513  0.888889  0.16884        1\n",
      " 54  O     0.019954  0.111111  0.081801       3\n",
      " 55  O     0.745303  0         0.002619       3\n",
      " 56  O     0.686621  0.222222  0.081801       3\n",
      " 57  O     0.411969  0.111111  0.002619       3\n",
      " 58  O     0.353287  0         0.081801       3\n",
      " 59  O     0.078636  0.222222  0.002619       3\n",
      " 60  O     0.118544  0.111111  0.166221       2\n",
      " 61  O     0.843893  0         0.087039       2\n",
      " 62  O     0.785211  0.222222  0.16622        2\n",
      " 63  O     0.510559  0.111111  0.087039       2\n",
      " 64  O     0.451877  0         0.166221       2\n",
      " 65  O     0.177226  0.222222  0.087039       2\n",
      " 66  O     0.217134  0.111111  0.25064        1\n",
      " 67  O     0.942483  0         0.171459       1\n",
      " 68  O     0.883801  0.222222  0.25064        1\n",
      " 69  O     0.609149  0.111111  0.171459       1\n",
      " 70  O     0.550467  0         0.250641       1\n",
      " 71  O     0.275816  0.222222  0.171459       1\n",
      " 72  O     0.019954  0.444444  0.081801       3\n",
      " 73  O     0.745303  0.333333  0.002619       3\n",
      " 74  O     0.686621  0.555556  0.081801       3\n",
      " 75  O     0.411969  0.444444  0.002619       3\n",
      " 76  O     0.353287  0.333333  0.081801       3\n",
      " 77  O     0.078636  0.555556  0.002619       3\n",
      " 78  O     0.118544  0.444444  0.166221       2\n",
      " 79  O     0.843893  0.333333  0.087039       2\n",
      " 80  O     0.785211  0.555556  0.16622        2\n",
      " 81  O     0.510559  0.444444  0.087039       2\n",
      " 82  O     0.451877  0.333333  0.166221       2\n",
      " 83  O     0.177226  0.555556  0.087039       2\n",
      " 84  O     0.217134  0.444444  0.25064        1\n",
      " 85  O     0.942483  0.333333  0.171459       1\n",
      " 86  O     0.883801  0.555556  0.25064        1\n",
      " 87  O     0.609149  0.444444  0.171459       1\n",
      " 88  O     0.550467  0.333333  0.250641       1\n",
      " 89  O     0.275816  0.555556  0.171459       1\n",
      " 90  O     0.019954  0.777778  0.081801       3\n",
      " 91  O     0.745303  0.666667  0.002619       3\n",
      " 92  O     0.686621  0.888889  0.081801       3\n",
      " 93  O     0.411969  0.777778  0.002619       3\n",
      " 94  O     0.353287  0.666667  0.081801       3\n",
      " 95  O     0.078636  0.888889  0.002619       3\n",
      " 96  O     0.118544  0.777778  0.166221       2\n",
      " 97  O     0.843893  0.666667  0.087039       2\n",
      " 98  O     0.785211  0.888889  0.16622        2\n",
      " 99  O     0.510559  0.777778  0.087039       2\n",
      "100  O     0.451877  0.666667  0.166221       2\n",
      "101  O     0.177226  0.888889  0.087039       2\n",
      "102  O     0.217134  0.777778  0.25064        1\n",
      "103  O     0.942483  0.666667  0.171459       1\n",
      "104  O     0.883801  0.888889  0.25064        1\n",
      "105  O     0.609149  0.777778  0.171459       1\n",
      "106  O     0.550467  0.666667  0.250641       1\n",
      "107  O     0.275816  0.888889  0.171459       1\n",
      "CIF file written as mp-25411_sc_10_top_vacuum_ortho_rotated_sorted.cif\n"
     ]
    }
   ],
   "source": [
    "sc_10_top_vacuum_ortho_rotated_sorted_pymat = sc_10_top_vacuum_ortho_rotated_pymat.get_sorted_structure()\n",
    "print(sc_10_top_vacuum_ortho_rotated_sorted_pymat)\n",
    "save_cif(sc_10_top_vacuum_ortho_rotated_sorted_pymat, f\"{mp_id}_sc_10_top_vacuum_ortho_rotated_sorted\")\n",
    "poscar = Poscar(sc_10_top_vacuum_ortho_rotated_sorted_pymat)\n",
    "poscar.write_file(f\"POSCAR_{mp_id}_sc_10_top_vacuum_ortho_rotated_sorted\")"
   ]
  },
  {
   "cell_type": "markdown",
   "id": "224e708f",
   "metadata": {},
   "source": [
    "#### Flip in the z coordinate"
   ]
  },
  {
   "cell_type": "code",
   "execution_count": 159,
   "id": "4d4e062d",
   "metadata": {},
   "outputs": [],
   "source": [
    "def flip_structure(structure_ase, axis):\n",
    "\n",
    "    if axis == \"z\":\n",
    "        id = 2\n",
    "    elif axis == \"y\":\n",
    "        id = 1\n",
    "    elif axis == \"z\":\n",
    "        id = 0\n",
    "\n",
    "    structure_flip_ase = structure_ase.copy()\n",
    "\n",
    "    coor_max = structure_ase.positions[:, id].max()\n",
    "    structure_flip_ase.positions[:, id] = coor_max - structure_flip_ase.positions[:, id]\n",
    "\n",
    "    structure_flip_pymat = AseAtomsAdaptor.get_structure(structure_flip_ase)\n",
    "    structure_flip_pymat\n",
    "\n",
    "    return structure_flip_ase, structure_flip_pymat"
   ]
  },
  {
   "cell_type": "code",
   "execution_count": 160,
   "id": "0cab4a00",
   "metadata": {},
   "outputs": [
    {
     "data": {
      "text/html": [
       "\n",
       "        <iframe\n",
       "            width=\"100%\"\n",
       "            height=\"650\"\n",
       "            src=\"http://127.0.0.1:8884/\"\n",
       "            frameborder=\"0\"\n",
       "            allowfullscreen\n",
       "            \n",
       "        ></iframe>\n",
       "        "
      ],
      "text/plain": [
       "<IPython.lib.display.IFrame at 0x7f3476f6aa90>"
      ]
     },
     "metadata": {},
     "output_type": "display_data"
    }
   ],
   "source": [
    "sc_10_top_vacuum_ortho_rotated_flip_ase, sc_10_top_vacuum_ortho_rotated_flip_pymat = flip_structure(sc_10_top_vacuum_ortho_rotated_ase, axis=\"z\")\n",
    "sc_10_top_vacuum_ortho_rotated_flip_pymat"
   ]
  },
  {
   "cell_type": "code",
   "execution_count": 161,
   "id": "9b6a644d",
   "metadata": {},
   "outputs": [
    {
     "name": "stdout",
     "output_type": "stream",
     "text": [
      "Full Formula (Li27 Ni27 O54)\n",
      "Reduced Formula: LiNiO2\n",
      "abc   :   8.716037  18.505942  26.783066\n",
      "angles:  90.000000  90.000000  90.000000\n",
      "pbc   :       True       True      False\n",
      "Sites (108)\n",
      "  #  SP           a         b         c    tags\n",
      "---  ----  --------  --------  --------  ------\n",
      "  0  Li    0.833333  0.222222  0              3\n",
      "  1  Li    0.5       0         0              3\n",
      "  2  Li    0.265257  0.111111  0.08442        3\n",
      "  3  Li    0.931923  0.222222  0.08442        2\n",
      "  4  Li    0.59859   0         0.08442        2\n",
      "  5  Li    0.363847  0.111111  0.16884        2\n",
      "  6  Li    0.030513  0.222222  0.16884        1\n",
      "  7  Li    0.69718   0         0.16884        1\n",
      "  8  Li    0.462437  0.111111  0.25326        1\n",
      "  9  Li    0.833333  0.555556  0              3\n",
      " 10  Li    0.5       0.333333  0              3\n",
      " 11  Li    0.265257  0.444444  0.08442        3\n",
      " 12  Li    0.931923  0.555556  0.08442        2\n",
      " 13  Li    0.59859   0.333333  0.08442        2\n",
      " 14  Li    0.363847  0.444444  0.16884        2\n",
      " 15  Li    0.030513  0.555556  0.16884        1\n",
      " 16  Li    0.69718   0.333333  0.16884        1\n",
      " 17  Li    0.462437  0.444444  0.25326        1\n",
      " 18  Li    0.833333  0.888889  0              3\n",
      " 19  Li    0.5       0.666667  0              3\n",
      " 20  Li    0.265257  0.777778  0.08442        3\n",
      " 21  Li    0.931923  0.888889  0.08442        2\n",
      " 22  Li    0.59859   0.666667  0.08442        2\n",
      " 23  Li    0.363847  0.777778  0.16884        2\n",
      " 24  Li    0.030513  0.888889  0.16884        1\n",
      " 25  Li    0.69718   0.666667  0.16884        1\n",
      " 26  Li    0.462437  0.777778  0.25326        1\n",
      " 27  Ni    0         0         0              3\n",
      " 28  Ni    0.765257  0.111111  0.08442        3\n",
      " 29  Ni    0.333333  0.222222  0              3\n",
      " 30  Ni    0.09859   0         0.08442        2\n",
      " 31  Ni    0.863847  0.111111  0.16884        2\n",
      " 32  Ni    0.431923  0.222222  0.08442        2\n",
      " 33  Ni    0.19718   0         0.16884        1\n",
      " 34  Ni    0.962437  0.111111  0.25326        1\n",
      " 35  Ni    0.530513  0.222222  0.16884        1\n",
      " 36  Ni    0         0.333333  0              3\n",
      " 37  Ni    0.765257  0.444444  0.08442        3\n",
      " 38  Ni    0.333333  0.555556  0              3\n",
      " 39  Ni    0.09859   0.333333  0.08442        2\n",
      " 40  Ni    0.863847  0.444444  0.16884        2\n",
      " 41  Ni    0.431923  0.555556  0.08442        2\n",
      " 42  Ni    0.19718   0.333333  0.16884        1\n",
      " 43  Ni    0.962437  0.444444  0.25326        1\n",
      " 44  Ni    0.530513  0.555556  0.16884        1\n",
      " 45  Ni    0         0.666667  0              3\n",
      " 46  Ni    0.765257  0.777778  0.08442        3\n",
      " 47  Ni    0.333333  0.888889  0              3\n",
      " 48  Ni    0.09859   0.666667  0.08442        2\n",
      " 49  Ni    0.863847  0.777778  0.16884        2\n",
      " 50  Ni    0.431923  0.888889  0.08442        2\n",
      " 51  Ni    0.19718   0.666667  0.16884        1\n",
      " 52  Ni    0.962437  0.777778  0.25326        1\n",
      " 53  Ni    0.530513  0.888889  0.16884        1\n",
      " 54  O     0.019954  0.111111  0.081801       3\n",
      " 55  O     0.745303  0         0.002619       3\n",
      " 56  O     0.686621  0.222222  0.081801       3\n",
      " 57  O     0.411969  0.111111  0.002619       3\n",
      " 58  O     0.353287  0         0.081801       3\n",
      " 59  O     0.078636  0.222222  0.002619       3\n",
      " 60  O     0.118544  0.111111  0.166221       2\n",
      " 61  O     0.843893  0         0.087039       2\n",
      " 62  O     0.785211  0.222222  0.16622        2\n",
      " 63  O     0.510559  0.111111  0.087039       2\n",
      " 64  O     0.451877  0         0.166221       2\n",
      " 65  O     0.177226  0.222222  0.087039       2\n",
      " 66  O     0.217134  0.111111  0.25064        1\n",
      " 67  O     0.942483  0         0.171459       1\n",
      " 68  O     0.883801  0.222222  0.25064        1\n",
      " 69  O     0.609149  0.111111  0.171459       1\n",
      " 70  O     0.550467  0         0.250641       1\n",
      " 71  O     0.275816  0.222222  0.171459       1\n",
      " 72  O     0.019954  0.444444  0.081801       3\n",
      " 73  O     0.745303  0.333333  0.002619       3\n",
      " 74  O     0.686621  0.555556  0.081801       3\n",
      " 75  O     0.411969  0.444444  0.002619       3\n",
      " 76  O     0.353287  0.333333  0.081801       3\n",
      " 77  O     0.078636  0.555556  0.002619       3\n",
      " 78  O     0.118544  0.444444  0.166221       2\n",
      " 79  O     0.843893  0.333333  0.087039       2\n",
      " 80  O     0.785211  0.555556  0.16622        2\n",
      " 81  O     0.510559  0.444444  0.087039       2\n",
      " 82  O     0.451877  0.333333  0.166221       2\n",
      " 83  O     0.177226  0.555556  0.087039       2\n",
      " 84  O     0.217134  0.444444  0.25064        1\n",
      " 85  O     0.942483  0.333333  0.171459       1\n",
      " 86  O     0.883801  0.555556  0.25064        1\n",
      " 87  O     0.609149  0.444444  0.171459       1\n",
      " 88  O     0.550467  0.333333  0.250641       1\n",
      " 89  O     0.275816  0.555556  0.171459       1\n",
      " 90  O     0.019954  0.777778  0.081801       3\n",
      " 91  O     0.745303  0.666667  0.002619       3\n",
      " 92  O     0.686621  0.888889  0.081801       3\n",
      " 93  O     0.411969  0.777778  0.002619       3\n",
      " 94  O     0.353287  0.666667  0.081801       3\n",
      " 95  O     0.078636  0.888889  0.002619       3\n",
      " 96  O     0.118544  0.777778  0.166221       2\n",
      " 97  O     0.843893  0.666667  0.087039       2\n",
      " 98  O     0.785211  0.888889  0.16622        2\n",
      " 99  O     0.510559  0.777778  0.087039       2\n",
      "100  O     0.451877  0.666667  0.166221       2\n",
      "101  O     0.177226  0.888889  0.087039       2\n",
      "102  O     0.217134  0.777778  0.25064        1\n",
      "103  O     0.942483  0.666667  0.171459       1\n",
      "104  O     0.883801  0.888889  0.25064        1\n",
      "105  O     0.609149  0.777778  0.171459       1\n",
      "106  O     0.550467  0.666667  0.250641       1\n",
      "107  O     0.275816  0.888889  0.171459       1\n",
      "CIF file written as mp-25411_sc_10_top_vacuum_ortho_rotated_sorted_flip.cif\n"
     ]
    }
   ],
   "source": [
    "sc_10_top_vacuum_ortho_rotated_sorted_pymat = sc_10_top_vacuum_ortho_rotated_pymat.get_sorted_structure()\n",
    "print(sc_10_top_vacuum_ortho_rotated_sorted_pymat)\n",
    "save_cif(sc_10_top_vacuum_ortho_rotated_sorted_pymat, f\"{mp_id}_sc_10_top_vacuum_ortho_rotated_sorted_flip\")\n",
    "poscar = Poscar(sc_10_top_vacuum_ortho_rotated_sorted_pymat)\n",
    "poscar.write_file(f\"POSCAR_{mp_id}_sc_10_top_vacuum_ortho_rotated_sorted_flip\")"
   ]
  },
  {
   "cell_type": "code",
   "execution_count": 162,
   "id": "81ec4578",
   "metadata": {},
   "outputs": [
    {
     "name": "stdout",
     "output_type": "stream",
     "text": [
      "Note: why no difference between before and after being flipped\n"
     ]
    }
   ],
   "source": [
    "print(\"Note: why no difference between before and after being flipped\")"
   ]
  },
  {
   "cell_type": "markdown",
   "id": "61c16602",
   "metadata": {},
   "source": [
    "### Creating the slab using $surface()$"
   ]
  },
  {
   "cell_type": "code",
   "execution_count": null,
   "id": "92b85b22",
   "metadata": {},
   "outputs": [],
   "source": [
    "slab_04_ase = surface(structure_standardized_ase,(1,0,4),layers=3,vacuum=0.4)\n",
    "\n",
    "slab_04_pymat = AseAtomsAdaptor.get_structure(slab_04_ase)\n",
    "slab_04_pymat"
   ]
  },
  {
   "cell_type": "code",
   "execution_count": null,
   "id": "28b142d6",
   "metadata": {},
   "outputs": [],
   "source": [
    "# print(slab_04_pymat)"
   ]
  },
  {
   "cell_type": "markdown",
   "id": "db66d8e1",
   "metadata": {},
   "source": [
    "### Add vacuum"
   ]
  },
  {
   "cell_type": "code",
   "execution_count": null,
   "id": "de55d813",
   "metadata": {},
   "outputs": [],
   "source": [
    "slab_04_vacuum_ase = slab_04_ase.copy()\n",
    "\n",
    "add_vacuum(slab_04_vacuum_ase, 20.0) \n",
    "\n",
    "slab_04_vacuum_pymat = AseAtomsAdaptor.get_structure(slab_04_vacuum_ase)\n",
    "slab_04_vacuum_pymat"
   ]
  },
  {
   "cell_type": "code",
   "execution_count": null,
   "id": "1ffd121b",
   "metadata": {},
   "outputs": [],
   "source": [
    "# print(slab_04_flip_vacuum_pymat)"
   ]
  },
  {
   "cell_type": "markdown",
   "id": "ac6c9e9e",
   "metadata": {},
   "source": [
    "### Flip the slab in the z-coordinate"
   ]
  },
  {
   "cell_type": "code",
   "execution_count": null,
   "id": "f507110f",
   "metadata": {},
   "outputs": [],
   "source": [
    "slab_04_vacuum_flip_ase, slab_04_vacuum_flip_pymat = flip_structure(slab_04_vacuum_ase, axis=\"z\")\n",
    "slab_04_vacuum_flip_pymat"
   ]
  },
  {
   "cell_type": "markdown",
   "id": "5da18bae",
   "metadata": {},
   "source": [
    "### Read angle (orthogonality) of slab"
   ]
  },
  {
   "cell_type": "code",
   "execution_count": null,
   "id": "80efe443",
   "metadata": {},
   "outputs": [],
   "source": [
    "# Check original slab cell angles (skewed!)\n",
    "from ase.geometry import cell_to_cellpar\n",
    "print(\"Angles:\", cell_to_cellpar(slab_04_vacuum_flip_ase.cell)[3:])"
   ]
  },
  {
   "cell_type": "markdown",
   "id": "e7a45bc7",
   "metadata": {},
   "source": [
    "## Create supercell"
   ]
  },
  {
   "cell_type": "code",
   "execution_count": null,
   "id": "aea642c3",
   "metadata": {},
   "outputs": [],
   "source": [
    "# supercell_ase = slab_04_flip_vacuum_ase.copy()\n",
    "\n",
    "supercell_ase = slab_04_vacuum_flip_ase.repeat((1, 3, 1))\n",
    "\n",
    "supercell_pymat = AseAtomsAdaptor.get_structure(supercell_ase)\n",
    "supercell_pymat"
   ]
  },
  {
   "cell_type": "code",
   "execution_count": null,
   "id": "12fd9fa0",
   "metadata": {},
   "outputs": [],
   "source": [
    "print(\"Angles:\", cell_to_cellpar(supercell_ase.cell)[3:])"
   ]
  },
  {
   "cell_type": "markdown",
   "id": "a3972d47",
   "metadata": {},
   "source": [
    "### Rotate so that the x-direction (long side) becomes y-direction as in QuantumATK"
   ]
  },
  {
   "cell_type": "markdown",
   "id": "567b4ac7",
   "metadata": {},
   "source": [
    "#### Method using $supercell\\_ase.rotate()$"
   ]
  },
  {
   "cell_type": "code",
   "execution_count": null,
   "id": "326ffc08",
   "metadata": {},
   "outputs": [],
   "source": [
    "# supercell_rotated_a_ase = supercell_ase.copy()\n",
    "\n",
    "# # Rotate around z-axis by 90°: x → y\n",
    "# supercell_rotated_a_ase.rotate(90, 'z', rotate_cell=True)\n",
    "\n",
    "# # # Optional: center supercell_rotated_a_ase and reset origin\n",
    "# # supercell_rotated_a_ase.positions[:, 2] -= supercell_rotated_a_ase.positions[:, 2].min()\n",
    "\n",
    "# supercell_rotated_a_pymat = AseAtomsAdaptor.get_structure(supercell_rotated_a_ase)\n",
    "# supercell_rotated_a_pymat\n",
    "\n",
    "print(\"Note: doesn't work\")"
   ]
  },
  {
   "cell_type": "markdown",
   "id": "865db026",
   "metadata": {},
   "source": [
    "#### Method using $rotate()$"
   ]
  },
  {
   "cell_type": "code",
   "execution_count": null,
   "id": "c1302064",
   "metadata": {},
   "outputs": [],
   "source": [
    "# from ase.build import rotate\n",
    "\n",
    "# supercell_rotated_b_ase = supercell_ase.copy()\n",
    "\n",
    "# # # Optional: center supercell_rotated_b_ase and reset origin\n",
    "# # supercell_rotated_b_ase.positions[:, 2] -= supercell_rotated_b_ase.positions[:, 2].min()\n",
    "\n",
    "# # Rotate around z-axis (in-plane rotation)\n",
    "# rotate(supercell_rotated_b_ase, 'z', 90, rotate_cell=True)\n",
    "\n",
    "# supercell_rotated_b_pymat = AseAtomsAdaptor.get_structure(supercell_rotated_b_ase)\n",
    "# supercell_rotated_b_pymat\n",
    "\n",
    "print(\"Note: TypeError: rotate() missing 2 required positional arguments: 'b1' and 'b2'\")"
   ]
  },
  {
   "cell_type": "markdown",
   "id": "880ff135",
   "metadata": {},
   "source": [
    "#### Method manually swap cell axes"
   ]
  },
  {
   "cell_type": "code",
   "execution_count": null,
   "id": "c02df27a",
   "metadata": {},
   "outputs": [],
   "source": [
    "supercell_rotated_c_ase = supercell_ase.copy()\n",
    "\n",
    "# Swap a and b vectors\n",
    "cell = supercell_rotated_c_ase.cell\n",
    "supercell_rotated_c_ase.set_cell([cell[1], -cell[0], cell[2]], scale_atoms=True)\n",
    "\n",
    "supercell_rotated_c_pymat = AseAtomsAdaptor.get_structure(supercell_rotated_c_ase)\n",
    "supercell_rotated_c_pymat"
   ]
  },
  {
   "cell_type": "code",
   "execution_count": null,
   "id": "b418b220",
   "metadata": {},
   "outputs": [],
   "source": [
    "# print(supercell_rotated_c_pymat)"
   ]
  },
  {
   "cell_type": "markdown",
   "id": "d1e73447",
   "metadata": {},
   "source": [
    "### Modify to orthogonal "
   ]
  },
  {
   "cell_type": "code",
   "execution_count": null,
   "id": "f5b964c9",
   "metadata": {},
   "outputs": [],
   "source": [
    "supercell_ortho_pymat = orthogonalize_structure(supercell_rotated_c_pymat)\n",
    "supercell_ortho_pymat"
   ]
  },
  {
   "cell_type": "code",
   "execution_count": null,
   "id": "27ef08ea",
   "metadata": {},
   "outputs": [],
   "source": [
    "print(supercell_ortho_pymat)\n",
    "save_cif(supercell_ortho_pymat, f\"{mp_id}_sc_ortho\")\n",
    "poscar = Poscar(supercell_ortho_pymat)\n",
    "poscar.write_file(f\"POSCAR_{mp_id}_sc_ortho\")"
   ]
  },
  {
   "cell_type": "code",
   "execution_count": null,
   "id": "52c04388",
   "metadata": {},
   "outputs": [],
   "source": [
    "supercell_ortho_sorted_pymat = supercell_ortho_pymat.get_sorted_structure()\n",
    "print(supercell_ortho_sorted_pymat)\n",
    "save_cif(supercell_ortho_sorted_pymat, f\"{mp_id}_sc_ortho_sorted\")\n",
    "poscar = Poscar(supercell_ortho_sorted_pymat)\n",
    "poscar.write_file(f\"POSCAR_{mp_id}_sc_ortho_sorted\")"
   ]
  },
  {
   "cell_type": "code",
   "execution_count": null,
   "id": "5440bcab",
   "metadata": {},
   "outputs": [],
   "source": []
  },
  {
   "cell_type": "code",
   "execution_count": null,
   "id": "e9bc6a6a",
   "metadata": {},
   "outputs": [],
   "source": []
  },
  {
   "cell_type": "markdown",
   "id": "51f3bc9e",
   "metadata": {},
   "source": [
    "### Cut along Miller index (FAILED)"
   ]
  },
  {
   "cell_type": "code",
   "execution_count": null,
   "id": "bcc18c10",
   "metadata": {},
   "outputs": [],
   "source": [
    "ase_slab_cut = cut(ase_slab, b=(1, 0, 4), clength=0.4, nlayers=3)"
   ]
  },
  {
   "cell_type": "code",
   "execution_count": null,
   "id": "d31aa47a",
   "metadata": {},
   "outputs": [],
   "source": [
    "ase_slab_cut_pymat = AseAtomsAdaptor.get_structure(ase_slab_cut)\n",
    "ase_slab_cut_pymat"
   ]
  },
  {
   "cell_type": "markdown",
   "id": "d0d21b77",
   "metadata": {},
   "source": [
    "### Add vacuum on top"
   ]
  },
  {
   "cell_type": "code",
   "execution_count": null,
   "id": "1526e23e",
   "metadata": {},
   "outputs": [],
   "source": [
    "z_max = ase_slab.positions[:, 2].max()\n",
    "new_c = ase_slab.get_cell()\n",
    "new_c[2, 2] = z_max + 20.0\n",
    "ase_slab.set_cell(new_c, scale_atoms=False)"
   ]
  },
  {
   "cell_type": "code",
   "execution_count": null,
   "id": "a4f5adc9",
   "metadata": {},
   "outputs": [],
   "source": []
  },
  {
   "cell_type": "code",
   "execution_count": null,
   "id": "241b8f4b",
   "metadata": {},
   "outputs": [],
   "source": [
    "ase_surface"
   ]
  },
  {
   "cell_type": "code",
   "execution_count": null,
   "id": "c5cdb4ba",
   "metadata": {},
   "outputs": [],
   "source": [
    "ase_surface.get_positions()"
   ]
  },
  {
   "cell_type": "code",
   "execution_count": null,
   "id": "53762c71",
   "metadata": {},
   "outputs": [],
   "source": [
    "# from ase import Atoms\n",
    "# from ase.build import fcc111, bulk\n",
    "# from ase.visualize import view\n",
    "\n",
    "# # Build a Pt(111) slab\n",
    "# slab = fcc111('Pt', size=(4,4,4), vacuum=10.0)\n",
    "\n",
    "# # Build a molecule (example)\n",
    "# molecule = bulk('CO', 'mx2')\n",
    "\n",
    "# # Align and add the molecule on top of the slab\n",
    "# slab_top = molecule.copy()\n",
    "ase_surface.translate((0,0,10))\n",
    "# ase_surface.extend(slab_top)\n",
    "\n",
    "print(ase_surface)"
   ]
  },
  {
   "cell_type": "code",
   "execution_count": null,
   "id": "4fdbc84d",
   "metadata": {},
   "outputs": [],
   "source": [
    "ase_structure_pymat = AseAtomsAdaptor.get_structure(ase_surface)\n",
    "ase_structure_pymat"
   ]
  },
  {
   "cell_type": "code",
   "execution_count": null,
   "id": "b59435a3",
   "metadata": {},
   "outputs": [],
   "source": [
    "print(ase_structure_pymat)"
   ]
  },
  {
   "cell_type": "markdown",
   "id": "f7a45212",
   "metadata": {},
   "source": [
    "## Create supercell"
   ]
  },
  {
   "cell_type": "code",
   "execution_count": null,
   "id": "13d24868",
   "metadata": {},
   "outputs": [],
   "source": [
    "sc_20_ase = slab_20_ase.repeat((3,1,1))\n",
    "sc_20_pymat = AseAtomsAdaptor.get_structure(sc_20_ase)\n",
    "sc_20_pymat"
   ]
  },
  {
   "cell_type": "code",
   "execution_count": null,
   "id": "e76a8ecb",
   "metadata": {},
   "outputs": [],
   "source": [
    "# Get the z-coordinates of all atoms\n",
    "z_coords = ase_surface.get_positions()[:, 2]\n",
    "\n",
    "# Find the minimum z-coordinate (bottom layer)\n",
    "min_z = min(z_coords)"
   ]
  },
  {
   "cell_type": "code",
   "execution_count": null,
   "id": "fb89bfd5",
   "metadata": {},
   "outputs": [],
   "source": [
    "# Calculate the desired z-coordinate (e.g., set the bottom to z=0)\n",
    "target_z = 0\n",
    "\n",
    "# Calculate the shift required\n",
    "shift_z = target_z - min_z\n",
    "\n",
    "# Move all atoms down\n",
    "ase_surface.positions[:, 2] += shift_z"
   ]
  },
  {
   "cell_type": "code",
   "execution_count": null,
   "id": "fbcf53c4",
   "metadata": {},
   "outputs": [],
   "source": [
    "ase_structure_pymat = AseAtomsAdaptor.get_structure(ase_surface)\n",
    "ase_structure_pymat"
   ]
  },
  {
   "cell_type": "code",
   "execution_count": null,
   "id": "d9a0f03f",
   "metadata": {},
   "outputs": [],
   "source": [
    "print(ase_structure_pymat)"
   ]
  },
  {
   "cell_type": "code",
   "execution_count": null,
   "id": "885618bd",
   "metadata": {},
   "outputs": [],
   "source": []
  },
  {
   "cell_type": "code",
   "execution_count": null,
   "id": "70a6d81f",
   "metadata": {},
   "outputs": [],
   "source": [
    "z_coords"
   ]
  },
  {
   "cell_type": "code",
   "execution_count": null,
   "id": "a1b5ab98",
   "metadata": {},
   "outputs": [],
   "source": [
    "ase_surface.get_cell()"
   ]
  },
  {
   "cell_type": "code",
   "execution_count": null,
   "id": "398b5faa",
   "metadata": {},
   "outputs": [],
   "source": [
    "slab.positions"
   ]
  },
  {
   "cell_type": "code",
   "execution_count": null,
   "id": "ea4303f3",
   "metadata": {},
   "outputs": [],
   "source": [
    "ase_surface.center(vacuum=5, axis=2)\n",
    "\n",
    "ase_structure_pymat = AseAtomsAdaptor.get_structure(ase_surface)\n",
    "ase_structure_pymat"
   ]
  },
  {
   "cell_type": "code",
   "execution_count": null,
   "id": "e8a7d709",
   "metadata": {},
   "outputs": [],
   "source": [
    "# from ase.visualize import view\n",
    "# ase_surface.edit()\n",
    "# view(ase_surface)"
   ]
  },
  {
   "cell_type": "code",
   "execution_count": null,
   "id": "1153a2bb",
   "metadata": {},
   "outputs": [],
   "source": [
    "ase_surface.top"
   ]
  },
  {
   "cell_type": "code",
   "execution_count": null,
   "id": "caa9c5c4",
   "metadata": {},
   "outputs": [],
   "source": [
    "ase_surface.set_cell([structure.lattice.a,structure.lattice.b,structure.lattice.c+length]) # make the vacuum gap\n",
    "\n",
    "ase_surface\n",
    "\n",
    "newstructure = AseAtomsAdaptor.get_structure(ase_surface)  # convert the structure back to a pymatgen object\n",
    "\n",
    "newstructure"
   ]
  },
  {
   "cell_type": "code",
   "execution_count": null,
   "id": "020c3fb9",
   "metadata": {},
   "outputs": [],
   "source": [
    "sc_structure = ase_surface.repeat((3,1,1))\n",
    "sc_structure_pymatgen = AseAtomsAdaptor.get_structure(sc_structure)\n",
    "sc_structure_pymatgen"
   ]
  },
  {
   "cell_type": "code",
   "execution_count": null,
   "id": "6c28448e",
   "metadata": {},
   "outputs": [],
   "source": [
    "save_cif(sc_structure_pymatgen, f\"{mp_id}_sc_ase\")"
   ]
  },
  {
   "cell_type": "markdown",
   "id": "625b23f4",
   "metadata": {},
   "source": [
    "## Create a slab using Pymatgen "
   ]
  },
  {
   "cell_type": "code",
   "execution_count": null,
   "id": "f1338654",
   "metadata": {},
   "outputs": [],
   "source": [
    "# Define slab parameters\n",
    "miller_index = [1, 0, 4]  # Miller index for the slab\n",
    "min_slab_size = 3      # Thickness of the slab\n",
    "min_vacuum_size = 4    # Thickness of the vacuum layer\n",
    "# tol = 0.01\n",
    "\n",
    "# Create the transformation with user parameters\n",
    "slab_transformation = SlabTransformation(\n",
    "    miller_index=miller_index,\n",
    "    min_slab_size=min_slab_size,\n",
    "    min_vacuum_size=min_vacuum_size,\n",
    "    lll_reduce=True,  # makes the slab more orthogonal \n",
    "    center_slab=False,  # centers the slab with vacuum on top and bottom\n",
    "    in_unit_planes=True  # means slab thicknesses are specified as number of planes, not Angstroms\n",
    "    # tol = tol\n",
    ")\n",
    "\n",
    "# Apply the transformation\n",
    "slab_7layer_pymat = slab_transformation.apply_transformation(structure_standardized)\n",
    "slab_7layer_pymat"
   ]
  },
  {
   "cell_type": "code",
   "execution_count": null,
   "id": "badf7fb5",
   "metadata": {},
   "outputs": [],
   "source": [
    "print(structure_slab)"
   ]
  },
  {
   "cell_type": "code",
   "execution_count": null,
   "id": "588f21e3",
   "metadata": {},
   "outputs": [],
   "source": [
    "# spacing = get_spacing(structure_standardized.lattice, miller_index)\n",
    "# thickness = spacing * min_slab_size"
   ]
  },
  {
   "cell_type": "code",
   "execution_count": null,
   "id": "84cdcc9d",
   "metadata": {},
   "outputs": [],
   "source": [
    "# # Manually add vacuum of 10 Å\n",
    "# slab_thickness = structure_slab.get_slab_thickness()\n",
    "# vacuum = 10.0\n",
    "# total_c = slab_thickness + vacuum\n",
    "# structure_slab.lattice = structure_slab.lattice.copy(a=structure_slab.lattice.a, b=structure_slab.lattice.b, c=total_c)\n",
    "# structure_slab.translate_sites(range(len(structure_slab)), [0, 0, vacuum / 2])"
   ]
  },
  {
   "cell_type": "code",
   "execution_count": null,
   "id": "ed2cc189",
   "metadata": {},
   "outputs": [],
   "source": [
    "print(structure_slab)"
   ]
  },
  {
   "cell_type": "code",
   "execution_count": null,
   "id": "49512369",
   "metadata": {},
   "outputs": [],
   "source": [
    "save_cif(structure_slab, f\"{mp_id}_slab\")\n",
    "\n",
    "# cif_filename_slab = f\"{mp_id}_slab.cif\"\n",
    "# structure_slab.to(fmt=\"cif\", filename=cif_filename_slab)\n",
    "\n",
    "# print(f\"CIF file created as slab as {cif_filename_slab}\")"
   ]
  },
  {
   "cell_type": "code",
   "execution_count": null,
   "id": "50180099",
   "metadata": {},
   "outputs": [],
   "source": [
    "from pymatgen.transformations.standard_transformations import SupercellTransformation"
   ]
  },
  {
   "cell_type": "code",
   "execution_count": null,
   "id": "31ff4e2c",
   "metadata": {},
   "outputs": [],
   "source": [
    "# Expand the the surface plane (e.g., if you want to add an adsorbate later)\n",
    "supercell_transformation = SupercellTransformation.from_scaling_factors(3, 3, 1)\n",
    "structure_supercell = supercell_transformation.apply_transformation(structure_slab)\n",
    "structure_supercell"
   ]
  },
  {
   "cell_type": "code",
   "execution_count": null,
   "id": "1ff40789",
   "metadata": {},
   "outputs": [],
   "source": [
    "print(structure_supercell)"
   ]
  },
  {
   "cell_type": "code",
   "execution_count": null,
   "id": "f6c98e07",
   "metadata": {},
   "outputs": [],
   "source": [
    "save_cif(structure_supercell, f\"{mp_id}_supercell\")"
   ]
  },
  {
   "cell_type": "code",
   "execution_count": null,
   "id": "b537e9b4",
   "metadata": {},
   "outputs": [],
   "source": [
    "# Shift slab to bottom (vacuum on top only)\n",
    "\n",
    "# Find the minimum z-coordinate of the atoms\n",
    "z_coords = [site.coords[-1] for site in structure_supercell.sites]\n",
    "min_z = min(z_coords)\n",
    "\n",
    "# Shift all atoms so the slab starts at z = 0\n",
    "structure_supercell_bottom = structure_supercell.translate_sites(\n",
    "    indices=list(range(len(structure_supercell))),\n",
    "    vector=[0, 0, -min_z]\n",
    ")"
   ]
  },
  {
   "cell_type": "code",
   "execution_count": null,
   "id": "2afe0e4a",
   "metadata": {},
   "outputs": [],
   "source": [
    "structure_supercell_bottom"
   ]
  },
  {
   "cell_type": "code",
   "execution_count": null,
   "id": "3342e15f",
   "metadata": {},
   "outputs": [],
   "source": [
    "save_cif(structure_supercell_bottom, f\"{mp_id}_supercell_bottom\")"
   ]
  },
  {
   "cell_type": "code",
   "execution_count": null,
   "id": "835a6046",
   "metadata": {},
   "outputs": [],
   "source": [
    "# # Expand the the surface plane (e.g., if you want to add an adsorbate later)\n",
    "# supercell_transformation_bottom = SupercellTransformation.from_scaling_factors(3, 1, 1)\n",
    "# structure_supercell_bottom = supercell_transformation.apply_transformation(structure_slab_bottom)\n",
    "# structure_supercell_bottom"
   ]
  },
  {
   "cell_type": "code",
   "execution_count": null,
   "id": "9920a349",
   "metadata": {},
   "outputs": [],
   "source": [
    "import random\n",
    "from pymatgen.core import Element\n",
    "from pymatgen.transformations.standard_transformations import SubstitutionTransformation"
   ]
  },
  {
   "cell_type": "code",
   "execution_count": null,
   "id": "4a18072b",
   "metadata": {},
   "outputs": [],
   "source": [
    "# # Copy the supercell structure so we don’t modify the original\n",
    "# nmc_structure = structure_supercell.copy()\n",
    "\n",
    "# # Get all Ni sites (index + site object)\n",
    "# ni_indices = [i for i, site in enumerate(nmc_structure) if site.specie.symbol == \"Ni\"]\n",
    "\n",
    "# # Ensure we have enough Ni to substitute\n",
    "# if len(ni_indices) < 3:\n",
    "#     raise ValueError(\"Not enough Ni atoms to apply 1:1:1 Ni:Mn:Co substitution.\")\n",
    "\n",
    "# # Shuffle for randomness, or sort to keep it deterministic\n",
    "# random.shuffle(ni_indices)\n",
    "\n",
    "# # Calculate number of substitutions\n",
    "# n_total = len(ni_indices)\n",
    "# n_mn = n_co = n_total // 3\n",
    "# n_ni = n_total - n_mn - n_co  # Keep remainder as Ni\n",
    "\n",
    "# # Replace indices\n",
    "# for idx in ni_indices[:n_mn]:\n",
    "#     nmc_structure[idx] = Element(\"Mn\")\n",
    "\n",
    "# for idx in ni_indices[n_mn:n_mn + n_co]:\n",
    "#     nmc_structure[idx] = Element(\"Co\")\n",
    "\n",
    "# # Done. nmc_structure is now Ni:Mn:Co = ~1:1:1"
   ]
  },
  {
   "cell_type": "code",
   "execution_count": null,
   "id": "2e0572f3",
   "metadata": {},
   "outputs": [],
   "source": [
    "from ase.io import read, write\n",
    "from collections import Counter"
   ]
  },
  {
   "cell_type": "code",
   "execution_count": null,
   "id": "28e49f17",
   "metadata": {},
   "outputs": [],
   "source": [
    "def substitute_Ni_atoms(structure, nmc_ratio, seed=None):\n",
    "    \"\"\"\n",
    "    Replace Ni atoms in the structure with Mn and Co according to a given NMC ratio.\n",
    "\n",
    "    Parameters:\n",
    "        structure (ASE Atoms): Structure containing Ni atoms.\n",
    "        nmc_ratio (tuple): A 3-tuple (Ni_fraction, Mn_fraction, Co_fraction), should sum to 1.\n",
    "        seed (int): Optional seed for reproducibility.\n",
    "\n",
    "    Returns:\n",
    "        ASE Atoms object with substitutions.\n",
    "    \"\"\"\n",
    "    nmc_structure = structure.copy()\n",
    "\n",
    "    if seed is not None:\n",
    "        random.seed(seed)\n",
    "\n",
    "    # Find all Ni atoms\n",
    "    ni_indices = [i for i, site in enumerate(nmc_structure) if site.specie.symbol == \"Ni\"]\n",
    "    n_total = len(ni_indices)\n",
    "\n",
    "    # Compute target numbers for each element\n",
    "    ni_frac, mn_frac, co_frac = nmc_ratio\n",
    "    n_ni = round(n_total * ni_frac)\n",
    "    n_mn = round(n_total * mn_frac)\n",
    "    n_co = n_total - n_ni - n_mn  # Adjust last one to ensure sum is correct\n",
    "\n",
    "    random.shuffle(ni_indices)\n",
    "\n",
    "    for i in ni_indices[:n_mn]:\n",
    "        nmc_structure[i].symbol = \"Mn\"\n",
    "    for i in ni_indices[n_mn:n_mn + n_co]:\n",
    "        nmc_structure[i].symbol = \"Co\"\n",
    "    # Remaining are Ni\n",
    "\n",
    "    print(f\"NMC ratio: {nmc_ratio}\")\n",
    "    nmc_structure\n",
    "\n",
    "    return nmc_structure"
   ]
  },
  {
   "cell_type": "code",
   "execution_count": null,
   "id": "cdcd6b1e",
   "metadata": {},
   "outputs": [],
   "source": [
    "structure = structure_supercell_bottom\n",
    "seed = 42\n",
    "nmc_ratio = (1/3, 1/3, 1/3)"
   ]
  },
  {
   "cell_type": "code",
   "execution_count": null,
   "id": "77791679",
   "metadata": {},
   "outputs": [],
   "source": [
    "nmc_structure = structure.copy()\n",
    "\n",
    "if seed is not None:\n",
    "    random.seed(seed)\n",
    "\n",
    "# Find all Ni atoms\n",
    "ni_indices = [i for i, site in enumerate(nmc_structure) if site.specie.symbol == \"Ni\"]\n",
    "print(ni_indices)\n",
    "n_total = len(ni_indices)\n",
    "\n",
    "# Compute target numbers for each element\n",
    "ni_frac, mn_frac, co_frac = nmc_ratio\n",
    "n_ni = round(n_total * ni_frac)\n",
    "n_mn = round(n_total * mn_frac)\n",
    "n_co = n_total - n_ni - n_mn  # Adjust last one to ensure sum is correct\n",
    "\n",
    "random.shuffle(ni_indices)\n",
    "print(ni_indices)\n",
    "\n",
    "for i in ni_indices[n_ni:n_ni+n_mn]:\n",
    "    # nmc_structure[i].symbol = \"Mn\"\n",
    "    nmc_structure.replace(i, \"Mn\")\n",
    "for i in ni_indices[n_ni+n_mn:n_ni+n_mn + n_co]:\n",
    "    # nmc_structure[i].symbol = \"Co\"\n",
    "    nmc_structure.replace(i, \"Co\")\n",
    "\n",
    "print(f\"NMC ratio: {nmc_ratio}\")\n",
    "# nmc_structure\n",
    "print(f\"n_ni:{n_ni}, n_mn:{n_mn}, n_co:{n_co}\")"
   ]
  },
  {
   "cell_type": "code",
   "execution_count": null,
   "id": "af9b9ddf",
   "metadata": {},
   "outputs": [],
   "source": [
    "nmc_structure"
   ]
  },
  {
   "cell_type": "code",
   "execution_count": null,
   "id": "0aebe45a",
   "metadata": {},
   "outputs": [],
   "source": [
    "save_cif(nmc_structure, f\"{mp_id}_111\")"
   ]
  },
  {
   "cell_type": "code",
   "execution_count": null,
   "id": "7188d5b9",
   "metadata": {},
   "outputs": [],
   "source": [
    "print(nmc_structure)"
   ]
  },
  {
   "cell_type": "code",
   "execution_count": null,
   "id": "08b948f7",
   "metadata": {},
   "outputs": [],
   "source": [
    "sorted_sites = sorted(nmc_structure.sites, key=lambda site: Element(str(site.specie)).Z)"
   ]
  },
  {
   "cell_type": "code",
   "execution_count": null,
   "id": "fb730d5b",
   "metadata": {},
   "outputs": [],
   "source": [
    "structure_sorted = Structure.from_sites(sorted_sites)"
   ]
  },
  {
   "cell_type": "code",
   "execution_count": null,
   "id": "186a560c",
   "metadata": {},
   "outputs": [],
   "source": [
    "print(structure_sorted)"
   ]
  },
  {
   "cell_type": "code",
   "execution_count": null,
   "id": "df904b39",
   "metadata": {},
   "outputs": [],
   "source": [
    "# Write to POSCAR\n",
    "Poscar(structure_sorted).write_file(f\"POSCAR_{mp_id}_111_sorted\")"
   ]
  },
  {
   "cell_type": "markdown",
   "id": "50a45e2f",
   "metadata": {},
   "source": [
    "Read triamine"
   ]
  },
  {
   "cell_type": "code",
   "execution_count": null,
   "id": "eca26745",
   "metadata": {},
   "outputs": [],
   "source": [
    "from pymatgen.io.xyz import XYZ"
   ]
  },
  {
   "cell_type": "code",
   "execution_count": null,
   "id": "762ba5f0",
   "metadata": {},
   "outputs": [],
   "source": [
    "# 2. Load triamine molecule from .xyz\n",
    "with open(\"fg/triamine.xyz\",\"r\") as f:\n",
    "    lines = XYZ.from_file(f).molecule"
   ]
  },
  {
   "cell_type": "code",
   "execution_count": null,
   "id": "10d680dd",
   "metadata": {},
   "outputs": [],
   "source": []
  },
  {
   "cell_type": "code",
   "execution_count": null,
   "id": "386fb077",
   "metadata": {},
   "outputs": [],
   "source": [
    "from pymatgen.io.cif import CifParser"
   ]
  },
  {
   "cell_type": "code",
   "execution_count": null,
   "id": "efa6a8f6",
   "metadata": {},
   "outputs": [],
   "source": [
    "poscar_structure = nmc_structure.get_structures()[0]\n",
    "\n",
    "# Sort sites by atomic number (i.e., periodic table order)\n",
    "sorted_sites = sorted(poscar_structure.sites, key=lambda site: Element(site.specie.symbol).Z)\n",
    "poscar_structure_sorted = Structure.from_sites(sorted_sites)\n",
    "\n",
    "# Write to POSCAR\n",
    "poscar = Poscar(poscar_structure_sorted)\n",
    "poscar.write_file(\"POSCAR_532\")"
   ]
  },
  {
   "cell_type": "code",
   "execution_count": null,
   "id": "8276e60f",
   "metadata": {},
   "outputs": [],
   "source": [
    "# Sort sites by atomic number (i.e., periodic table order)\n",
    "sorted_sites = sorted(structure.sites, key=lambda site: Element(site.specie.symbol).Z)\n",
    "structure_sorted = Structure.from_sites(sorted_sites)\n",
    "\n",
    "# Write to POSCAR\n",
    "poscar = Poscar(structure_sorted)\n",
    "poscar.write_file(\"POSCAR_532\")"
   ]
  },
  {
   "cell_type": "code",
   "execution_count": null,
   "id": "c22a8b09",
   "metadata": {},
   "outputs": [],
   "source": []
  },
  {
   "cell_type": "code",
   "execution_count": null,
   "id": "8eef4658",
   "metadata": {},
   "outputs": [],
   "source": [
    "for i in ni_indices[n_ni:n_ni+n_mn]:\n",
    "    print(nmc_structure[i])\n",
    "# for i in ni_indices[n_ni+n_mn:n_ni+n_mn + n_co]:\n",
    "#     print(i)"
   ]
  },
  {
   "cell_type": "code",
   "execution_count": null,
   "id": "bea9960c",
   "metadata": {},
   "outputs": [],
   "source": [
    "for i, site in enumerate(nmc_structure):\n",
    "    if site.specie.symbol == \"Ni\":\n",
    "        print(i)"
   ]
  },
  {
   "cell_type": "code",
   "execution_count": null,
   "id": "53b25133",
   "metadata": {},
   "outputs": [],
   "source": [
    "print(nmc_structure)"
   ]
  },
  {
   "cell_type": "code",
   "execution_count": null,
   "id": "cc8c08a9",
   "metadata": {},
   "outputs": [],
   "source": [
    "# Define compositions\n",
    "nmc_compositions = {\n",
    "    \"111\": (1/3, 1/3, 1/3),\n",
    "    \"532\": (5/10, 3/10, 2/10)\n",
    "    # \"523\": (5/10, 2/10, 3/10),\n",
    "    # \"910\": (9/11, 1.5/11, 0.5/11),\n",
    "    # \"901\": (9/11, 0.5/11, 1.5/11)\n",
    "}"
   ]
  },
  {
   "cell_type": "code",
   "execution_count": null,
   "id": "390e6549",
   "metadata": {},
   "outputs": [],
   "source": [
    "# Loop through each and write a structure\n",
    "for label, ratio in nmc_compositions.items():\n",
    "    modified = substitute_Ni_atoms(structure_supercell_bottom.copy(), ratio, seed=42)\n",
    "    # write(f\"LiNMC_{label}_slab_sc.xyz\", modified)\n",
    "    # print(f\"{label}: {Counter(atom.symbol for atom in modified)}\")\n",
    "    modified.to(filename=f\"LiNMC_{label}_slab_sc.cif\")\n",
    "    print(f\"{label}: {modified.composition}\")"
   ]
  },
  {
   "cell_type": "code",
   "execution_count": null,
   "id": "2a0cf7fa",
   "metadata": {},
   "outputs": [],
   "source": [
    "ni_indices = [i for i, site in enumerate(structure_supercell_bottom) if site.specie.symbol == \"Ni\"]\n",
    "print(ni_indices)"
   ]
  },
  {
   "cell_type": "code",
   "execution_count": null,
   "id": "870b012a",
   "metadata": {},
   "outputs": [],
   "source": []
  },
  {
   "cell_type": "code",
   "execution_count": null,
   "id": "064bd0f0",
   "metadata": {},
   "outputs": [],
   "source": [
    "# with MPRester(api_key) as mpr:\n",
    "#     # thermo_docs = mpr.materials.thermo.search(material_ids=[mp_id])\n",
    "#     thermo_doc = mpr.thermo.get_data_by_material_id(mp_id)\n",
    "\n",
    "#     # # In addition, you can specify the level of theory by using \"thermo_type\", the default is \"GGA_GGA+U_R2SCAN\":\n",
    "#     # thermo_docs = mpr.materials.thermo.search(\n",
    "#     #     material_ids=[mp_id], thermo_types=[\"GGA_GGA+U\", \"GGA_GGA+U_R2SCAN\", \"R2SCAN\"]\n",
    "#     # )"
   ]
  },
  {
   "cell_type": "code",
   "execution_count": null,
   "id": "0ebd2a02",
   "metadata": {},
   "outputs": [],
   "source": []
  }
 ],
 "metadata": {
  "kernelspec": {
   "display_name": "full_automate",
   "language": "python",
   "name": "python3"
  },
  "language_info": {
   "codemirror_mode": {
    "name": "ipython",
    "version": 3
   },
   "file_extension": ".py",
   "mimetype": "text/x-python",
   "name": "python",
   "nbconvert_exporter": "python",
   "pygments_lexer": "ipython3",
   "version": "3.11.11"
  }
 },
 "nbformat": 4,
 "nbformat_minor": 5
}
