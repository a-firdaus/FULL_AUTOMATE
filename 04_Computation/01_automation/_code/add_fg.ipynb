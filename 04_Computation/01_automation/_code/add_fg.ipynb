{
 "cells": [
  {
   "cell_type": "code",
   "execution_count": 11,
   "id": "0e63d18d",
   "metadata": {},
   "outputs": [],
   "source": [
    "import crystal_toolkit"
   ]
  },
  {
   "cell_type": "code",
   "execution_count": 12,
   "id": "b5b50cf7",
   "metadata": {},
   "outputs": [],
   "source": [
    "from ase.io import read\n",
    "\n",
    "from ase.build import add_adsorbate\n",
    "from ase.geometry import get_distances\n",
    "import numpy as np\n",
    "import random\n",
    "\n",
    "from pymatgen.core import Structure, Lattice, Molecule\n",
    "from pymatgen.core.operations import SymmOp\n",
    "\n",
    "from full_automate import CreateInterface"
   ]
  },
  {
   "cell_type": "markdown",
   "id": "94494554",
   "metadata": {},
   "source": [
    "# Load structure"
   ]
  },
  {
   "cell_type": "code",
   "execution_count": 13,
   "id": "5174bd47",
   "metadata": {},
   "outputs": [],
   "source": [
    "supercell = Structure.from_file(\"../_input/quantumatk/POSCAR_sc_li_outer\")\n",
    "# supercell_ase = read(\"quantumatk/POSCAR_sc_li_outer\")\n",
    "# supercell_ase.cell\n",
    "\n",
    "molecule = Molecule.from_file(\"../_input/fg/diurethane.xyz\")\n",
    "\n",
    "# ## alternative\n",
    "# from pymatgen.io.ase import AseAtomsAdaptor\n",
    "\n",
    "# molecule_ase = read(\"fg/triamine.xyz\")\n",
    "# molecule_ase = AseAtomsAdaptor.get_molecule(atoms)"
   ]
  },
  {
   "cell_type": "code",
   "execution_count": 14,
   "id": "e52af78d",
   "metadata": {},
   "outputs": [],
   "source": [
    "# molecule_centered = molecule.get_centered_molecule()\n",
    "\n",
    "# molecule_ase_xyz = CreateInterface.align_principal_axes(molecule_ase)\n",
    "# molecule_ase.get_positions()"
   ]
  },
  {
   "cell_type": "markdown",
   "id": "e7c35a67",
   "metadata": {},
   "source": [
    "# Vary NMC rate"
   ]
  },
  {
   "cell_type": "code",
   "execution_count": 15,
   "id": "891342b1",
   "metadata": {},
   "outputs": [
    {
     "name": "stdout",
     "output_type": "stream",
     "text": [
      "Original Ni indices: [27, 28, 29, 30, 31, 32, 33, 34, 35, 36, 37, 38, 39, 40, 41, 42, 43, 44, 45, 46, 47, 48, 49, 50, 51, 52, 53]\n",
      "Shuffled Ni indices: [48, 43, 28, 46, 52, 53, 41, 47, 29, 27, 40, 51, 37, 33, 31, 39, 30, 45, 42, 32, 44, 35, 49, 36, 50, 34, 38]\n",
      "NMC ratio: [0.33333333 0.33333333 0.33333333]\n",
      "n_ni: 9, n_mn: 9, n_co: 9\n"
     ]
    }
   ],
   "source": [
    "nmc_structure = CreateInterface.substitute_ni_atoms(structure=supercell, nmc_ratio=[1,1,1], seed=None)"
   ]
  },
  {
   "cell_type": "markdown",
   "id": "aba60273",
   "metadata": {},
   "source": [
    "# Step 1: Get longest axis of molecule"
   ]
  },
  {
   "cell_type": "code",
   "execution_count": 16,
   "id": "25e116b5",
   "metadata": {},
   "outputs": [
    {
     "name": "stdout",
     "output_type": "stream",
     "text": [
      "[-0.99984225 -0.0041892  -0.01726076]\n"
     ]
    }
   ],
   "source": [
    "molecule_axis = CreateInterface.get_principal_axis(molecule)    # [-0.99961261 -0.02777762  0.00174037]\n",
    "print(molecule_axis)\n",
    "\n",
    "# # Step 2: Get molecule's longest axis (in Cartesian)\n",
    "# molecule_coords = np.array(molecule.cart_coords)\n",
    "# molecule_extent = np.ptp(molecule_coords, axis=0)\n",
    "# molecule_axis = molecule_extent / np.linalg.norm(molecule_extent)\n",
    "# print(molecule_axis)"
   ]
  },
  {
   "cell_type": "markdown",
   "id": "da0dc9c3",
   "metadata": {},
   "source": [
    "# Step 2: Determine the thickest lattice direction"
   ]
  },
  {
   "cell_type": "code",
   "execution_count": 27,
   "id": "5af72e23",
   "metadata": {},
   "outputs": [],
   "source": [
    "supercell_frac_coords = np.array([site.frac_coords for site in supercell])\n",
    "spread = np.ptp(supercell_frac_coords, axis=0)  # peak-to-peak: max - min along each axis\n",
    "thickest_idx = np.argmax(spread)\n",
    "lattice_vec_thickest_idx = supercell.lattice.matrix[thickest_idx]\n",
    "\n",
    "# Get supercell direction (unit vector)\n",
    "supercell_unitvec = lattice_vec_thickest_idx / np.linalg.norm(lattice_vec_thickest_idx)      # returns: array([-2.65311532e-08,  1.00000000e+00,  0.00000000e+00])"
   ]
  },
  {
   "cell_type": "markdown",
   "id": "487443da",
   "metadata": {},
   "source": [
    "# Step 3: Rotate molecule to align molecule_axis with supercell_unitvec"
   ]
  },
  {
   "cell_type": "code",
   "execution_count": 28,
   "id": "b05585ae",
   "metadata": {},
   "outputs": [],
   "source": [
    "# Assuming molecule_axis and supercell_unitvec are normalized vectors\n",
    "rotation_axis = np.cross(molecule_axis, supercell_unitvec)      # array([-0.02777762,  0.99961261,  0.        ])"
   ]
  },
  {
   "cell_type": "code",
   "execution_count": 29,
   "id": "bae72ee5",
   "metadata": {},
   "outputs": [],
   "source": [
    "# Skip rotation if vectors are already aligned\n",
    "if np.linalg.norm(rotation_axis) > 1e-3:\n",
    "    rotation_axis /= np.linalg.norm(rotation_axis)\n",
    "    rotation_angle_rad = np.arccos(np.clip(np.dot(molecule_axis, supercell_unitvec), -1.0, 1.0))    # 1.5690559577350829\n",
    "    rotation_angle_deg = np.rad2deg(rotation_angle_rad)     # 89.90028419807753\n",
    "\n",
    "    rotation = SymmOp.from_origin_axis_angle(origin=[0, 0, 0],\n",
    "                                            axis=rotation_axis,\n",
    "                                            angle=rotation_angle_deg,\n",
    "                                            angle_in_radians=False)\n",
    "    molecule_rotated = molecule.copy()\n",
    "    molecule_rotated.apply_operation(rotation)\n",
    "else:\n",
    "    molecule_rotated = molecule.copy()"
   ]
  },
  {
   "cell_type": "markdown",
   "id": "357b83b7",
   "metadata": {},
   "source": [
    "# Step 3a: fine-tuning flipping through specific direction"
   ]
  },
  {
   "cell_type": "code",
   "execution_count": null,
   "id": "295c17b5",
   "metadata": {},
   "outputs": [],
   "source": [
    "# Mirror over the y-axis (flip the sign of y-coordinates)\n",
    "molecule_cart_coords_flipped = molecule_rotated.cart_coords.copy()\n",
    "# if molecule_name == [\"diurethane\", \"triamine\"]:\n",
    "molecule_cart_coords_flipped[:, 0] *= -1  # Flip x-axis\n",
    "molecule_cart_coords_flipped[:, 1] *= -1  # Flip y-axis\n",
    "# molecule_cart_coords_flipped[:, 2] *= -1  # Flip z-axis\n",
    "# elif molecule_name == \"dicarbonate\":\n",
    "# unknown\n",
    "# elif molecule_name == \"triester\": # approved\n",
    "# elif molecule_name == \"triether\": # approved\n",
    "# elif molecule_name == \"triol\": # approved\n",
    "\n",
    "# Create a new Molecule with flipped coordinates\n",
    "molecule_rotated_flipped = Molecule(species=molecule_rotated.species, coords=molecule_cart_coords_flipped)\n",
    "molecule_rotated_flipped"
   ]
  },
  {
   "cell_type": "markdown",
   "id": "01d0dd7b",
   "metadata": {},
   "source": [
    "# Step 4: Translate molecule so it sits 3 Å above the top of supercell"
   ]
  },
  {
   "cell_type": "markdown",
   "id": "75d84b9a",
   "metadata": {},
   "source": [
    "## Get longest lattice vector of supercell"
   ]
  },
  {
   "cell_type": "code",
   "execution_count": null,
   "id": "3d290449",
   "metadata": {},
   "outputs": [],
   "source": [
    "supercell_lengths = supercell.lattice.abc\n",
    "longest_idx = np.argmax(supercell_lengths)\n",
    "longest_unitvec = np.array([1 if i == longest_idx else 0 for i in range(3)])"
   ]
  },
  {
   "cell_type": "code",
   "execution_count": null,
   "id": "cc972042",
   "metadata": {},
   "outputs": [],
   "source": [
    "supercell_cart_coords = np.array([site.coords for site in supercell])\n",
    "molecule_cart_coords = np.array(molecule_rotated_flipped.cart_coords)\n",
    "\n",
    "# # --- Get topmost atom in slab along vacuum direction ---\n",
    "# supercell_top = np.max(supercell_cart_coords[:, longest_idx])\n",
    "\n",
    "# # Center of the supercell in y++\n",
    "# supercell_min = np.min(supercell_cart_coords[:, thickest_idx])\n",
    "# supercell_max = np.max(supercell_cart_coords[:, thickest_idx])\n",
    "# supercell_center = np.mean(supercell_cart_coords, axis=0)       # didnt really like this\n",
    "# molecule_center = np.mean(molecule_cart_coords, axis=0)"
   ]
  },
  {
   "cell_type": "code",
   "execution_count": null,
   "id": "2194e17a",
   "metadata": {},
   "outputs": [],
   "source": [
    "# --- Get molecule centroid and shift ---\n",
    "molecule_com = molecule_rotated_flipped.center_of_mass\n",
    "molecule_at_origin = molecule_rotated_flipped.translate_sites(range(len(molecule_rotated_flipped)), -molecule_com)\n",
    "\n",
    "# combined_structure = supercell.copy()\n",
    "# for site in molecule_at_origin.sites:\n",
    "#     combined_structure.append(site.specie, site.coords, coords_are_cartesian=True)\n",
    "\n",
    "# combined_structure = combined_structure.get_sorted_structure()\n",
    "\n",
    "# # Save result\n",
    "# combined_structure.to(filename=\"molecule_at_origin_center.cif\")"
   ]
  },
  {
   "cell_type": "code",
   "execution_count": null,
   "id": "59de86b9",
   "metadata": {},
   "outputs": [],
   "source": [
    "# supercell center in 2D excluding the longest direction \n",
    "# longest_unitvec_inverse = 1 - longest_unitvec   # inversion of longest_unitvec\n",
    "supercell_2d_center = supercell.lattice.matrix.sum(axis=0) / 2  # Question: how do they compute for y direc?\n",
    "supercell_2d_center[longest_idx] = 0"
   ]
  },
  {
   "cell_type": "code",
   "execution_count": null,
   "id": "4310751a",
   "metadata": {},
   "outputs": [],
   "source": [
    "# Place molecule center in 2D center of supercell\n",
    "molecule_translated_x_y = molecule_at_origin.copy()\n",
    "translation = supercell_2d_center - molecule_com\n",
    "molecule_translated_x_y.translate_sites(range(len(molecule_at_origin)), translation)\n",
    "\n",
    "# combined_structure = supercell.copy()\n",
    "# for site in molecule_translated_x_y.sites:\n",
    "#     combined_structure.append(site.specie, site.coords, coords_are_cartesian=True)\n",
    "\n",
    "# combined_structure = combined_structure.get_sorted_structure()\n",
    "\n",
    "# # Save result\n",
    "# combined_structure.to(filename=\"molecule_at_origin_center_translated_x_y.cif\")"
   ]
  },
  {
   "cell_type": "code",
   "execution_count": null,
   "id": "2d48ff34",
   "metadata": {},
   "outputs": [],
   "source": [
    "# Get z-coordinate of lowest atom in molecule\n",
    "z_low_molecule = min(site.z for site in molecule_translated_x_y.sites)\n",
    "# print(z_low_molecule)"
   ]
  },
  {
   "cell_type": "code",
   "execution_count": null,
   "id": "267eafd2",
   "metadata": {},
   "outputs": [],
   "source": [
    "# Then lift molecule along thickest_idx axis to be 3 Å above top\n",
    "\n",
    "# Get z-coordinate of lowest atom in molecule\n",
    "z_low_molecule = min(site.z for site in molecule_translated_x_y.sites)\n",
    "\n",
    "# z_top_supercell = np.max([site.coords[longest_idx] for site in supercell.sites])\n",
    "z_top_supercell = np.max(supercell_cart_coords[:, longest_idx])\n",
    "# molecule_bottom = np.min([site[longest_idx] for site in molecule_rotated.cart_coords])\n",
    "# z_shift = z_top_supercell - molecule_bottom + 3.0  # 3 Å vacuum\n",
    "translation_z = np.zeros(3)\n",
    "translation_z[longest_idx] = z_top_supercell - z_low_molecule + 3.0  # 3 Å vacuum\n",
    "\n",
    "molecule_translated_x_y_z = molecule_translated_x_y.copy()\n",
    "molecule_translated_x_y_z.translate_sites(range(len(molecule_translated_x_y)), translation_z)\n",
    "\n",
    "combined_structure = supercell.copy()\n",
    "for site in molecule_translated_x_y_z.sites:\n",
    "    combined_structure.append(site.specie, site.coords, coords_are_cartesian=True)\n",
    "\n",
    "combined_structure = combined_structure.get_sorted_structure()\n",
    "\n",
    "# Save result\n",
    "combined_structure.to(filename=\"molecule_at_origin_center_translated_x_y_z.cif\")"
   ]
  },
  {
   "cell_type": "code",
   "execution_count": null,
   "id": "cfba8613",
   "metadata": {},
   "outputs": [],
   "source": [
    "# # Then lift molecule along longest axis to be 3 Å above top\n",
    "# molecule_translated_x_y_z = molecule_translated_x_y.copy()\n",
    "# offset = np.zeros(3)\n",
    "# offset[longest_idx] = supercell_max - np.min(molecule_cart_coords[:, longest_idx]) + 3.0\n",
    "# molecule_translated_x_y_z.translate_sites(range(len(molecule_translated_x_y)), offset)\n",
    "\n",
    "# print(\"Note: doesn't work\")"
   ]
  },
  {
   "cell_type": "code",
   "execution_count": null,
   "id": "2c5a5168",
   "metadata": {},
   "outputs": [],
   "source": []
  }
 ],
 "metadata": {
  "kernelspec": {
   "display_name": "full_automate",
   "language": "python",
   "name": "python3"
  },
  "language_info": {
   "codemirror_mode": {
    "name": "ipython",
    "version": 3
   },
   "file_extension": ".py",
   "mimetype": "text/x-python",
   "name": "python",
   "nbconvert_exporter": "python",
   "pygments_lexer": "ipython3",
   "version": "3.11.11"
  }
 },
 "nbformat": 4,
 "nbformat_minor": 5
}
